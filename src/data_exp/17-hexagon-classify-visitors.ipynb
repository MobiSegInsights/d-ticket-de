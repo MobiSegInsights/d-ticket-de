{
 "cells": [
  {
   "metadata": {},
   "cell_type": "markdown",
   "source": "# Classify hexagons by their visitors",
   "id": "3baeabfa54632a4c"
  },
  {
   "metadata": {},
   "cell_type": "code",
   "source": [
    "%load_ext autoreload\n",
    "%autoreload 2\n",
    "%cd D:\\d-ticket-de"
   ],
   "id": "75fa62a0b600d95a",
   "outputs": [],
   "execution_count": null
  },
  {
   "metadata": {
    "ExecuteTime": {
     "end_time": "2025-02-21T15:14:29.811150Z",
     "start_time": "2025-02-21T15:14:28.362372Z"
    }
   },
   "cell_type": "code",
   "source": [
    "# Load libs\n",
    "import pandas as pd\n",
    "import os\n",
    "os.environ['USE_PYGEOS'] = '0'\n",
    "from tqdm import tqdm\n",
    "import workers\n",
    "import pickle\n",
    "import seaborn as sns\n",
    "import matplotlib.pyplot as plt\n",
    "from sklearn.metrics import silhouette_score, calinski_harabasz_score, davies_bouldin_score"
   ],
   "id": "a7fb069cf0f2635b",
   "outputs": [],
   "execution_count": 2
  },
  {
   "metadata": {
    "ExecuteTime": {
     "end_time": "2025-02-21T15:19:34.103289Z",
     "start_time": "2025-02-21T15:19:33.208438Z"
    }
   },
   "cell_type": "code",
   "source": [
    "# Load hexagons\n",
    "data_folder = 'dbs/combined_did_data_r_nurban/'\n",
    "grp, lv = 'all', 'all'\n",
    "file2 = data_folder + f'h3_grids_dt_{grp}_{lv}.parquet'\n",
    "df2 = pd.read_parquet(file2)\n",
    "print(f\"Number of unique hexagons for the DT: {df2['h3_id'].nunique()}\")"
   ],
   "id": "7d69c23ecaaca81e",
   "outputs": [
    {
     "name": "stdout",
     "output_type": "stream",
     "text": [
      "Number of unique hexagons for the DT: 31536\n"
     ]
    }
   ],
   "execution_count": 4
  },
  {
   "metadata": {
    "ExecuteTime": {
     "end_time": "2025-02-21T15:19:35.848856Z",
     "start_time": "2025-02-21T15:19:35.725989Z"
    }
   },
   "cell_type": "code",
   "source": "df2.columns",
   "id": "504e5ea3bb0b4576",
   "outputs": [
    {
     "data": {
      "text/plain": [
       "Index(['h3_id', 'date', 'year', 'month', 'weekday', 'precipitation',\n",
       "       'fuel_price', 'pt_station_num', 'num_visits_wt', 'num_unique_device',\n",
       "       'd_ha_wt', 'f_share', 'net_rent_100m', 'state', 'district',\n",
       "       'state_holiday'],\n",
       "      dtype='object')"
      ]
     },
     "execution_count": 5,
     "metadata": {},
     "output_type": "execute_result"
    }
   ],
   "execution_count": 5
  },
  {
   "metadata": {
    "ExecuteTime": {
     "end_time": "2025-02-21T15:19:37.792555Z",
     "start_time": "2025-02-21T15:19:37.519807Z"
    }
   },
   "cell_type": "code",
   "source": [
    "df2plot = df2[['h3_id', 'date', 'year', 'month', 'weekday', 'f_share', 'net_rent_100m', 'district']].copy()\n",
    "df2plot.rename(columns={'f_share': 'f_share_v', 'net_rent_100m': 'net_rent_v'}, inplace=True)"
   ],
   "id": "4144b444daebb3ff",
   "outputs": [],
   "execution_count": 6
  },
  {
   "metadata": {},
   "cell_type": "markdown",
   "source": "## 1. Foreigner share",
   "id": "f3c06e84c792248a"
  },
  {
   "metadata": {
    "ExecuteTime": {
     "end_time": "2025-02-13T19:36:34.237877Z",
     "start_time": "2025-02-13T19:36:26.133156Z"
    }
   },
   "cell_type": "code",
   "source": [
    "variable2plot = 'f_share_v'\n",
    "tqdm.pandas()\n",
    "df_v = df2plot.groupby('date').progress_apply(lambda x: workers.var_hex_date(data=x, variable=variable2plot)).\\\n",
    "    reset_index(drop=True).assign(policy='dt')\n",
    "df_v.to_parquet(os.path.join(f\"results/hex_time_series/{grp}_{lv}_{variable2plot}.parquet\"), index=False)"
   ],
   "id": "3e0404c71eaf401",
   "outputs": [
    {
     "name": "stderr",
     "output_type": "stream",
     "text": [
      "100%|██████████| 175/175 [00:07<00:00, 22.87it/s]\n"
     ]
    }
   ],
   "execution_count": 5
  },
  {
   "metadata": {},
   "cell_type": "markdown",
   "source": "<img src=\"https://raw.githubusercontent.com/MobiSegInsights/nine-euro-ticket-de/main/figures/manuscript/hex_time_series_all_all_f_share_v.png\" alt=\"Drawing\" style=\"width: 800px;\" />",
   "id": "f0d8312a7469ce56"
  },
  {
   "metadata": {
    "ExecuteTime": {
     "end_time": "2025-02-17T13:54:37.980186Z",
     "start_time": "2025-02-17T13:54:36.913333Z"
    }
   },
   "cell_type": "code",
   "source": [
    "# Get district quantile groups\n",
    "df2f = df2plot.groupby(['h3_id', 'district'])['f_share_v'].mean().reset_index()\n",
    "df2f_dvs = df2f.groupby('district').apply(lambda x: pd.Series(dict(dvs=[x['f_share_v'].quantile(i) for i in [0.25, 0.75]])),\n",
    "                                          include_groups=False).reset_index()\n",
    "# Convert to dictionary {col1: col2}\n",
    "result_dict = df2f_dvs.set_index('district')['dvs'].to_dict()"
   ],
   "id": "186b1ec380a9eec9",
   "outputs": [],
   "execution_count": 7
  },
  {
   "metadata": {
    "ExecuteTime": {
     "end_time": "2025-02-17T13:55:12.783378Z",
     "start_time": "2025-02-17T13:55:07.943776Z"
    }
   },
   "cell_type": "code",
   "source": [
    "# District level grouping\n",
    "def grouping_by_district(data):\n",
    "    data_r = data[['f_share_v', 'h3_id', 'date']].copy()\n",
    "    dvs = result_dict[data.name]\n",
    "    data_r.loc[:, 'f_grp'] = pd.cut(data_r['f_share_v'], [-0.01] + dvs + [10000], labels=['q1', 'q23', 'q4'])\n",
    "    return data_r\n",
    "\n",
    "tqdm.pandas()\n",
    "df2plot_grp = df2plot.groupby('district').progress_apply(grouping_by_district).reset_index().sort_values(by=['h3_id'])\n",
    "df2plot_grp.head()"
   ],
   "id": "f30c7ec9f7fa492b",
   "outputs": [
    {
     "name": "stderr",
     "output_type": "stream",
     "text": [
      "100%|██████████| 378/378 [00:01<00:00, 197.08it/s]\n"
     ]
    },
    {
     "data": {
      "text/plain": [
       "        district  level_1  f_share_v            h3_id       date f_grp\n",
       "1283488  Görlitz      163  12.288812  881e265325fffff 2023-04-24    q4\n",
       "1283798  Görlitz      473  11.861615  881e265325fffff 2023-05-19    q4\n",
       "1283797  Görlitz      472  12.232948  881e265325fffff 2023-04-25    q4\n",
       "1283796  Görlitz      471  12.628129  881e265325fffff 2023-04-01    q4\n",
       "1283795  Görlitz      470  13.225372  881e265325fffff 2023-03-28    q4"
      ],
      "text/html": [
       "<div>\n",
       "<style scoped>\n",
       "    .dataframe tbody tr th:only-of-type {\n",
       "        vertical-align: middle;\n",
       "    }\n",
       "\n",
       "    .dataframe tbody tr th {\n",
       "        vertical-align: top;\n",
       "    }\n",
       "\n",
       "    .dataframe thead th {\n",
       "        text-align: right;\n",
       "    }\n",
       "</style>\n",
       "<table border=\"1\" class=\"dataframe\">\n",
       "  <thead>\n",
       "    <tr style=\"text-align: right;\">\n",
       "      <th></th>\n",
       "      <th>district</th>\n",
       "      <th>level_1</th>\n",
       "      <th>f_share_v</th>\n",
       "      <th>h3_id</th>\n",
       "      <th>date</th>\n",
       "      <th>f_grp</th>\n",
       "    </tr>\n",
       "  </thead>\n",
       "  <tbody>\n",
       "    <tr>\n",
       "      <th>1283488</th>\n",
       "      <td>Görlitz</td>\n",
       "      <td>163</td>\n",
       "      <td>12.288812</td>\n",
       "      <td>881e265325fffff</td>\n",
       "      <td>2023-04-24</td>\n",
       "      <td>q4</td>\n",
       "    </tr>\n",
       "    <tr>\n",
       "      <th>1283798</th>\n",
       "      <td>Görlitz</td>\n",
       "      <td>473</td>\n",
       "      <td>11.861615</td>\n",
       "      <td>881e265325fffff</td>\n",
       "      <td>2023-05-19</td>\n",
       "      <td>q4</td>\n",
       "    </tr>\n",
       "    <tr>\n",
       "      <th>1283797</th>\n",
       "      <td>Görlitz</td>\n",
       "      <td>472</td>\n",
       "      <td>12.232948</td>\n",
       "      <td>881e265325fffff</td>\n",
       "      <td>2023-04-25</td>\n",
       "      <td>q4</td>\n",
       "    </tr>\n",
       "    <tr>\n",
       "      <th>1283796</th>\n",
       "      <td>Görlitz</td>\n",
       "      <td>471</td>\n",
       "      <td>12.628129</td>\n",
       "      <td>881e265325fffff</td>\n",
       "      <td>2023-04-01</td>\n",
       "      <td>q4</td>\n",
       "    </tr>\n",
       "    <tr>\n",
       "      <th>1283795</th>\n",
       "      <td>Görlitz</td>\n",
       "      <td>470</td>\n",
       "      <td>13.225372</td>\n",
       "      <td>881e265325fffff</td>\n",
       "      <td>2023-03-28</td>\n",
       "      <td>q4</td>\n",
       "    </tr>\n",
       "  </tbody>\n",
       "</table>\n",
       "</div>"
      ]
     },
     "execution_count": 8,
     "metadata": {},
     "output_type": "execute_result"
    }
   ],
   "execution_count": 8
  },
  {
   "metadata": {
    "ExecuteTime": {
     "end_time": "2025-02-17T13:55:27.784090Z",
     "start_time": "2025-02-17T13:55:27.166559Z"
    }
   },
   "cell_type": "code",
   "source": [
    "# Calculate the share of occurrences for each f_gpp group\n",
    "df_grouped = df2plot_grp.groupby(['h3_id', 'f_grp']).size().unstack(fill_value=0)\n",
    "\n",
    "# Normalize to get shares\n",
    "df_shares = df_grouped.div(df_grouped.sum(axis=1), axis=0)\n",
    "\n",
    "# Reset index to make h3_id a column\n",
    "df_shares = df_shares.reset_index()\n",
    "\n",
    "# Rename columns to include q1, q2, q3, q4\n",
    "df_shares = df_shares.reindex(columns=['h3_id', 'q1', 'q23', 'q4'], fill_value=0)\n",
    "df_shares.head()"
   ],
   "id": "dcc49387791ab7a7",
   "outputs": [
    {
     "data": {
      "text/plain": [
       "f_grp            h3_id        q1       q23        q4\n",
       "0      881e265325fffff  0.022857  0.245714  0.731429\n",
       "1      881e26532dfffff  0.084337  0.638554  0.277108\n",
       "2      881e265367fffff  0.111111  0.222222  0.666667\n",
       "3      881e26ca39fffff  0.500000  0.232143  0.267857\n",
       "4      881e26cb65fffff  0.718750  0.208333  0.072917"
      ],
      "text/html": [
       "<div>\n",
       "<style scoped>\n",
       "    .dataframe tbody tr th:only-of-type {\n",
       "        vertical-align: middle;\n",
       "    }\n",
       "\n",
       "    .dataframe tbody tr th {\n",
       "        vertical-align: top;\n",
       "    }\n",
       "\n",
       "    .dataframe thead th {\n",
       "        text-align: right;\n",
       "    }\n",
       "</style>\n",
       "<table border=\"1\" class=\"dataframe\">\n",
       "  <thead>\n",
       "    <tr style=\"text-align: right;\">\n",
       "      <th>f_grp</th>\n",
       "      <th>h3_id</th>\n",
       "      <th>q1</th>\n",
       "      <th>q23</th>\n",
       "      <th>q4</th>\n",
       "    </tr>\n",
       "  </thead>\n",
       "  <tbody>\n",
       "    <tr>\n",
       "      <th>0</th>\n",
       "      <td>881e265325fffff</td>\n",
       "      <td>0.022857</td>\n",
       "      <td>0.245714</td>\n",
       "      <td>0.731429</td>\n",
       "    </tr>\n",
       "    <tr>\n",
       "      <th>1</th>\n",
       "      <td>881e26532dfffff</td>\n",
       "      <td>0.084337</td>\n",
       "      <td>0.638554</td>\n",
       "      <td>0.277108</td>\n",
       "    </tr>\n",
       "    <tr>\n",
       "      <th>2</th>\n",
       "      <td>881e265367fffff</td>\n",
       "      <td>0.111111</td>\n",
       "      <td>0.222222</td>\n",
       "      <td>0.666667</td>\n",
       "    </tr>\n",
       "    <tr>\n",
       "      <th>3</th>\n",
       "      <td>881e26ca39fffff</td>\n",
       "      <td>0.500000</td>\n",
       "      <td>0.232143</td>\n",
       "      <td>0.267857</td>\n",
       "    </tr>\n",
       "    <tr>\n",
       "      <th>4</th>\n",
       "      <td>881e26cb65fffff</td>\n",
       "      <td>0.718750</td>\n",
       "      <td>0.208333</td>\n",
       "      <td>0.072917</td>\n",
       "    </tr>\n",
       "  </tbody>\n",
       "</table>\n",
       "</div>"
      ]
     },
     "execution_count": 9,
     "metadata": {},
     "output_type": "execute_result"
    }
   ],
   "execution_count": 9
  },
  {
   "metadata": {
    "ExecuteTime": {
     "end_time": "2025-02-13T19:40:16.943165Z",
     "start_time": "2025-02-13T19:38:00.524221Z"
    }
   },
   "cell_type": "code",
   "source": [
    "threshold_impact = list()\n",
    "for threshold in tqdm(range(1, 10), 'Threshold testing'):\n",
    "    threshold /= 10\n",
    "    def grouping(row):\n",
    "        q_list = [row['q1'], row['q2'], row['q3'], row['q4']]\n",
    "        if max(q_list) >= threshold:\n",
    "            return f'q{q_list.index(max(q_list)) + 1}'\n",
    "        else:\n",
    "            return 'q0'\n",
    "    df_shares.loc[:, 'f_grp'] = df_shares.apply(lambda row: grouping(row), axis=1)\n",
    "    length_q0 = len(df_shares[df_shares['f_grp'] == 'q0'])\n",
    "    features = df_shares[['q1', 'q2', 'q3', 'q4']]\n",
    "    pred_labels = df_shares['f_grp']\n",
    "    silhouette_avg = silhouette_score(features, pred_labels)\n",
    "    ch_score = calinski_harabasz_score(features, pred_labels)\n",
    "    db_score = davies_bouldin_score(features, pred_labels)\n",
    "    threshold_impact.append((threshold, length_q0/len(df_shares), silhouette_avg, ch_score, db_score))\n",
    "df_thr = pd.DataFrame(threshold_impact, columns=['threshold', 'share_q0', 'silhouette_avg', 'ch_score', 'db_score'])"
   ],
   "id": "c950993712b693d3",
   "outputs": [
    {
     "name": "stderr",
     "output_type": "stream",
     "text": [
      "Threshold testing: 100%|██████████| 9/9 [02:16<00:00, 15.14s/it]\n"
     ]
    }
   ],
   "execution_count": 9
  },
  {
   "metadata": {
    "ExecuteTime": {
     "end_time": "2025-02-13T19:40:17.283817Z",
     "start_time": "2025-02-13T19:40:16.998448Z"
    }
   },
   "cell_type": "code",
   "source": "df_thr.plot(x='threshold', y='share_q0')",
   "id": "c396d6e3d07b8949",
   "outputs": [
    {
     "data": {
      "text/plain": [
       "<Axes: xlabel='threshold'>"
      ]
     },
     "execution_count": 10,
     "metadata": {},
     "output_type": "execute_result"
    },
    {
     "data": {
      "text/plain": [
       "<Figure size 640x480 with 1 Axes>"
      ],
      "image/png": "[encoded data removed]"
     },
     "metadata": {},
     "output_type": "display_data"
    }
   ],
   "execution_count": 10
  },
  {
   "metadata": {
    "ExecuteTime": {
     "end_time": "2025-02-13T19:41:44.795247Z",
     "start_time": "2025-02-13T19:41:44.526784Z"
    }
   },
   "cell_type": "code",
   "source": "df_thr.plot(x='threshold', y='db_score')",
   "id": "3f6134cd7553959d",
   "outputs": [
    {
     "data": {
      "text/plain": [
       "<Axes: xlabel='threshold'>"
      ]
     },
     "execution_count": 13,
     "metadata": {},
     "output_type": "execute_result"
    },
    {
     "data": {
      "text/plain": [
       "<Figure size 640x480 with 1 Axes>"
      ],
      "image/png": "[encoded data removed]"
     },
     "metadata": {},
     "output_type": "display_data"
    }
   ],
   "execution_count": 13
  },
  {
   "metadata": {},
   "cell_type": "markdown",
   "source": "### Select threshold = 0.5",
   "id": "7c8db7f2fcb1cb5a"
  },
  {
   "metadata": {
    "ExecuteTime": {
     "end_time": "2025-02-13T19:41:32.432329Z",
     "start_time": "2025-02-13T19:41:17.814495Z"
    }
   },
   "cell_type": "code",
   "source": [
    "threshold = 0.5\n",
    "def grouping(row):\n",
    "        q_list = [row['q1'], row['q2'], row['q3'], row['q4']]\n",
    "        if max(q_list) >= threshold:\n",
    "            return f'q{q_list.index(max(q_list)) + 1}'\n",
    "        else:\n",
    "            return 'q0'\n",
    "df_shares.loc[:, 'f_grp'] = df_shares.apply(lambda row: grouping(row), axis=1)\n",
    "length_q0 = len(df_shares[df_shares['f_grp'] == 'q0'])\n",
    "features = df_shares[['q1', 'q2', 'q3', 'q4']]\n",
    "pred_labels = df_shares['f_grp']\n",
    "silhouette_avg = silhouette_score(features, pred_labels)\n",
    "ch_score = calinski_harabasz_score(features, pred_labels)\n",
    "db_score = davies_bouldin_score(features, pred_labels)\n",
    "print((threshold, length_q0/len(df_shares), silhouette_avg, ch_score, db_score))    # Peak ch_score"
   ],
   "id": "3ba36273819c874a",
   "outputs": [
    {
     "name": "stdout",
     "output_type": "stream",
     "text": [
      "(0.5, 0.43473890270356064, 0.3636867650036115, 19893.031416859267, 0.8907638487384599)\n"
     ]
    }
   ],
   "execution_count": 12
  },
  {
   "metadata": {
    "ExecuteTime": {
     "end_time": "2025-02-13T19:42:52.774630Z",
     "start_time": "2025-02-13T19:42:52.604156Z"
    }
   },
   "cell_type": "code",
   "source": "f_grp_dict = df_shares.set_index('h3_id')['f_grp'].to_dict()",
   "id": "658ebdeb8176f3cb",
   "outputs": [],
   "execution_count": 14
  },
  {
   "metadata": {},
   "cell_type": "markdown",
   "source": "## 2. Net rent",
   "id": "19bf5fcf41f94a8a"
  },
  {
   "metadata": {
    "ExecuteTime": {
     "end_time": "2025-02-13T19:43:54.467627Z",
     "start_time": "2025-02-13T19:43:46.563911Z"
    }
   },
   "cell_type": "code",
   "source": [
    "variable2plot = 'net_rent_v'\n",
    "tqdm.pandas()\n",
    "df_v = df2plot.groupby('date').progress_apply(lambda x: workers.var_hex_date(data=x, variable=variable2plot)).\\\n",
    "    reset_index(drop=True).assign(policy='dt')\n",
    "df_v.to_parquet(os.path.join(f\"results/hex_time_series/{grp}_{lv}_{variable2plot}.parquet\"), index=False)"
   ],
   "id": "a1ae96f8be084364",
   "outputs": [
    {
     "name": "stderr",
     "output_type": "stream",
     "text": [
      "100%|██████████| 175/175 [00:07<00:00, 22.81it/s]\n"
     ]
    }
   ],
   "execution_count": 15
  },
  {
   "metadata": {},
   "cell_type": "markdown",
   "source": "<img src=\"https://raw.githubusercontent.com/MobiSegInsights/nine-euro-ticket-de/main/figures/manuscript/hex_time_series_all_all_net_rent_v.png\" alt=\"Drawing\" style=\"width: 800px;\" />",
   "id": "fc0e1974112b39fc"
  },
  {
   "metadata": {
    "ExecuteTime": {
     "end_time": "2025-02-13T19:50:07.633866Z",
     "start_time": "2025-02-13T19:50:06.405633Z"
    }
   },
   "cell_type": "code",
   "source": [
    "# Get district quantile groups\n",
    "df2f = df2plot.groupby(['h3_id', 'district'])[variable2plot].mean().reset_index()\n",
    "df2f_dvs = df2f.groupby('district').apply(lambda x: pd.Series(dict(dvs=[x[variable2plot].quantile(i) for i in [0.25, 0.5, 0.75]]))).reset_index()\n",
    "# Convert to dictionary {col1: col2}\n",
    "result_dict = df2f_dvs.set_index('district')['dvs'].to_dict()"
   ],
   "id": "b88a0202576a03d8",
   "outputs": [],
   "execution_count": 16
  },
  {
   "metadata": {
    "ExecuteTime": {
     "end_time": "2025-02-13T19:52:07.613780Z",
     "start_time": "2025-02-13T19:52:02.951708Z"
    }
   },
   "cell_type": "code",
   "source": [
    "# District level grouping\n",
    "def grouping_by_district_r(data):\n",
    "    data_r = data[[variable2plot, 'h3_id', 'date']].copy()\n",
    "    dvs = result_dict[data.name]\n",
    "    data_r.loc[:, 'r_grp'] = pd.cut(data_r[variable2plot], [-0.01] + dvs + [10000], labels=['q1', 'q2', 'q3', 'q4'])\n",
    "    return data_r\n",
    "\n",
    "tqdm.pandas()\n",
    "df2plot_grp = df2plot.groupby('district').progress_apply(grouping_by_district_r).reset_index().sort_values(by=['h3_id'])\n",
    "df2plot_grp.head()"
   ],
   "id": "b487bda7b1f8e527",
   "outputs": [
    {
     "name": "stderr",
     "output_type": "stream",
     "text": [
      "100%|██████████| 378/378 [00:01<00:00, 214.86it/s]\n"
     ]
    },
    {
     "data": {
      "text/plain": [
       "        district  level_1  net_rent_v            h3_id       date r_grp\n",
       "1283488  Görlitz      163    5.266400  881e265325fffff 2023-04-24    q2\n",
       "1283798  Görlitz      473    4.850671  881e265325fffff 2023-05-19    q1\n",
       "1283797  Görlitz      472    5.122022  881e265325fffff 2023-04-25    q2\n",
       "1283796  Görlitz      471    5.666749  881e265325fffff 2023-04-01    q3\n",
       "1283795  Görlitz      470    4.925831  881e265325fffff 2023-03-28    q1"
      ],
      "text/html": [
       "<div>\n",
       "<style scoped>\n",
       "    .dataframe tbody tr th:only-of-type {\n",
       "        vertical-align: middle;\n",
       "    }\n",
       "\n",
       "    .dataframe tbody tr th {\n",
       "        vertical-align: top;\n",
       "    }\n",
       "\n",
       "    .dataframe thead th {\n",
       "        text-align: right;\n",
       "    }\n",
       "</style>\n",
       "<table border=\"1\" class=\"dataframe\">\n",
       "  <thead>\n",
       "    <tr style=\"text-align: right;\">\n",
       "      <th></th>\n",
       "      <th>district</th>\n",
       "      <th>level_1</th>\n",
       "      <th>net_rent_v</th>\n",
       "      <th>h3_id</th>\n",
       "      <th>date</th>\n",
       "      <th>r_grp</th>\n",
       "    </tr>\n",
       "  </thead>\n",
       "  <tbody>\n",
       "    <tr>\n",
       "      <th>1283488</th>\n",
       "      <td>Görlitz</td>\n",
       "      <td>163</td>\n",
       "      <td>5.266400</td>\n",
       "      <td>881e265325fffff</td>\n",
       "      <td>2023-04-24</td>\n",
       "      <td>q2</td>\n",
       "    </tr>\n",
       "    <tr>\n",
       "      <th>1283798</th>\n",
       "      <td>Görlitz</td>\n",
       "      <td>473</td>\n",
       "      <td>4.850671</td>\n",
       "      <td>881e265325fffff</td>\n",
       "      <td>2023-05-19</td>\n",
       "      <td>q1</td>\n",
       "    </tr>\n",
       "    <tr>\n",
       "      <th>1283797</th>\n",
       "      <td>Görlitz</td>\n",
       "      <td>472</td>\n",
       "      <td>5.122022</td>\n",
       "      <td>881e265325fffff</td>\n",
       "      <td>2023-04-25</td>\n",
       "      <td>q2</td>\n",
       "    </tr>\n",
       "    <tr>\n",
       "      <th>1283796</th>\n",
       "      <td>Görlitz</td>\n",
       "      <td>471</td>\n",
       "      <td>5.666749</td>\n",
       "      <td>881e265325fffff</td>\n",
       "      <td>2023-04-01</td>\n",
       "      <td>q3</td>\n",
       "    </tr>\n",
       "    <tr>\n",
       "      <th>1283795</th>\n",
       "      <td>Görlitz</td>\n",
       "      <td>470</td>\n",
       "      <td>4.925831</td>\n",
       "      <td>881e265325fffff</td>\n",
       "      <td>2023-03-28</td>\n",
       "      <td>q1</td>\n",
       "    </tr>\n",
       "  </tbody>\n",
       "</table>\n",
       "</div>"
      ]
     },
     "execution_count": 20,
     "metadata": {},
     "output_type": "execute_result"
    }
   ],
   "execution_count": 20
  },
  {
   "metadata": {
    "ExecuteTime": {
     "end_time": "2025-02-13T19:52:11.829475Z",
     "start_time": "2025-02-13T19:52:11.167410Z"
    }
   },
   "cell_type": "code",
   "source": [
    "# Calculate the share of occurrences for each f_gpp group\n",
    "df_grouped = df2plot_grp.groupby(['h3_id', 'r_grp']).size().unstack(fill_value=0)\n",
    "\n",
    "# Normalize to get shares\n",
    "df_shares = df_grouped.div(df_grouped.sum(axis=1), axis=0)\n",
    "\n",
    "# Reset index to make h3_id a column\n",
    "df_shares = df_shares.reset_index()\n",
    "\n",
    "# Rename columns to include q1, q2, q3, q4\n",
    "df_shares = df_shares.reindex(columns=['h3_id', 'q1', 'q2', 'q3', 'q4'], fill_value=0)\n",
    "df_shares.head()"
   ],
   "id": "4895f625439b5f6c",
   "outputs": [
    {
     "data": {
      "text/plain": [
       "r_grp            h3_id        q1        q2        q3        q4\n",
       "0      881e265325fffff  0.502857  0.297143  0.165714  0.034286\n",
       "1      881e26532dfffff  0.897590  0.054217  0.030120  0.018072\n",
       "2      881e265367fffff  0.861111  0.083333  0.000000  0.055556\n",
       "3      881e26ca39fffff  0.446429  0.107143  0.142857  0.303571\n",
       "4      881e26cb65fffff  0.281250  0.187500  0.260417  0.270833"
      ],
      "text/html": [
       "<div>\n",
       "<style scoped>\n",
       "    .dataframe tbody tr th:only-of-type {\n",
       "        vertical-align: middle;\n",
       "    }\n",
       "\n",
       "    .dataframe tbody tr th {\n",
       "        vertical-align: top;\n",
       "    }\n",
       "\n",
       "    .dataframe thead th {\n",
       "        text-align: right;\n",
       "    }\n",
       "</style>\n",
       "<table border=\"1\" class=\"dataframe\">\n",
       "  <thead>\n",
       "    <tr style=\"text-align: right;\">\n",
       "      <th>r_grp</th>\n",
       "      <th>h3_id</th>\n",
       "      <th>q1</th>\n",
       "      <th>q2</th>\n",
       "      <th>q3</th>\n",
       "      <th>q4</th>\n",
       "    </tr>\n",
       "  </thead>\n",
       "  <tbody>\n",
       "    <tr>\n",
       "      <th>0</th>\n",
       "      <td>881e265325fffff</td>\n",
       "      <td>0.502857</td>\n",
       "      <td>0.297143</td>\n",
       "      <td>0.165714</td>\n",
       "      <td>0.034286</td>\n",
       "    </tr>\n",
       "    <tr>\n",
       "      <th>1</th>\n",
       "      <td>881e26532dfffff</td>\n",
       "      <td>0.897590</td>\n",
       "      <td>0.054217</td>\n",
       "      <td>0.030120</td>\n",
       "      <td>0.018072</td>\n",
       "    </tr>\n",
       "    <tr>\n",
       "      <th>2</th>\n",
       "      <td>881e265367fffff</td>\n",
       "      <td>0.861111</td>\n",
       "      <td>0.083333</td>\n",
       "      <td>0.000000</td>\n",
       "      <td>0.055556</td>\n",
       "    </tr>\n",
       "    <tr>\n",
       "      <th>3</th>\n",
       "      <td>881e26ca39fffff</td>\n",
       "      <td>0.446429</td>\n",
       "      <td>0.107143</td>\n",
       "      <td>0.142857</td>\n",
       "      <td>0.303571</td>\n",
       "    </tr>\n",
       "    <tr>\n",
       "      <th>4</th>\n",
       "      <td>881e26cb65fffff</td>\n",
       "      <td>0.281250</td>\n",
       "      <td>0.187500</td>\n",
       "      <td>0.260417</td>\n",
       "      <td>0.270833</td>\n",
       "    </tr>\n",
       "  </tbody>\n",
       "</table>\n",
       "</div>"
      ]
     },
     "execution_count": 21,
     "metadata": {},
     "output_type": "execute_result"
    }
   ],
   "execution_count": 21
  },
  {
   "metadata": {
    "ExecuteTime": {
     "end_time": "2025-02-13T19:55:09.495181Z",
     "start_time": "2025-02-13T19:52:51.190414Z"
    }
   },
   "cell_type": "code",
   "source": [
    "threshold_impact = list()\n",
    "for threshold in tqdm(range(1, 10), 'Threshold testing'):\n",
    "    threshold /= 10\n",
    "    def grouping(row):\n",
    "        q_list = [row['q1'], row['q2'], row['q3'], row['q4']]\n",
    "        if max(q_list) >= threshold:\n",
    "            return f'q{q_list.index(max(q_list)) + 1}'\n",
    "        else:\n",
    "            return 'q0'\n",
    "    df_shares.loc[:, 'r_grp'] = df_shares.apply(lambda row: grouping(row), axis=1)\n",
    "    length_q0 = len(df_shares[df_shares['r_grp'] == 'q0'])\n",
    "    features = df_shares[['q1', 'q2', 'q3', 'q4']]\n",
    "    pred_labels = df_shares['r_grp']\n",
    "    silhouette_avg = silhouette_score(features, pred_labels)\n",
    "    ch_score = calinski_harabasz_score(features, pred_labels)\n",
    "    db_score = davies_bouldin_score(features, pred_labels)\n",
    "    threshold_impact.append((threshold, length_q0/len(df_shares), silhouette_avg, ch_score, db_score))\n",
    "df_thr = pd.DataFrame(threshold_impact, columns=['threshold', 'share_q0', 'silhouette_avg', 'ch_score', 'db_score'])"
   ],
   "id": "84250a0c944264f0",
   "outputs": [
    {
     "name": "stderr",
     "output_type": "stream",
     "text": [
      "Threshold testing: 100%|██████████| 9/9 [02:18<00:00, 15.35s/it]\n"
     ]
    }
   ],
   "execution_count": 22
  },
  {
   "metadata": {
    "ExecuteTime": {
     "end_time": "2025-02-13T19:55:59.461588Z",
     "start_time": "2025-02-13T19:55:59.212854Z"
    }
   },
   "cell_type": "code",
   "source": "df_thr.plot(x='threshold', y='share_q0')",
   "id": "a6e07a95b14463ea",
   "outputs": [
    {
     "data": {
      "text/plain": [
       "<Axes: xlabel='threshold'>"
      ]
     },
     "execution_count": 23,
     "metadata": {},
     "output_type": "execute_result"
    },
    {
     "data": {
      "text/plain": [
       "<Figure size 640x480 with 1 Axes>"
      ],
      "image/png": "[encoded data removed]"
     },
     "metadata": {},
     "output_type": "display_data"
    }
   ],
   "execution_count": 23
  },
  {
   "metadata": {
    "ExecuteTime": {
     "end_time": "2025-02-13T19:56:11.806615Z",
     "start_time": "2025-02-13T19:56:11.549925Z"
    }
   },
   "cell_type": "code",
   "source": "df_thr.plot(x='threshold', y='ch_score')",
   "id": "8ccf5c8540bf7a5e",
   "outputs": [
    {
     "data": {
      "text/plain": [
       "<Axes: xlabel='threshold'>"
      ]
     },
     "execution_count": 25,
     "metadata": {},
     "output_type": "execute_result"
    },
    {
     "data": {
      "text/plain": [
       "<Figure size 640x480 with 1 Axes>"
      ],
      "image/png": "[encoded data removed]"
     },
     "metadata": {},
     "output_type": "display_data"
    }
   ],
   "execution_count": 25
  },
  {
   "metadata": {},
   "cell_type": "markdown",
   "source": "### Select threshold = 0.5",
   "id": "eb615a2250ff986b"
  },
  {
   "metadata": {
    "ExecuteTime": {
     "end_time": "2025-02-13T19:57:23.468049Z",
     "start_time": "2025-02-13T19:57:08.500962Z"
    }
   },
   "cell_type": "code",
   "source": [
    "threshold = 0.5\n",
    "def grouping(row):\n",
    "        q_list = [row['q1'], row['q2'], row['q3'], row['q4']]\n",
    "        if max(q_list) >= threshold:\n",
    "            return f'q{q_list.index(max(q_list)) + 1}'\n",
    "        else:\n",
    "            return 'q0'\n",
    "df_shares.loc[:, 'r_grp'] = df_shares.apply(lambda row: grouping(row), axis=1)\n",
    "length_q0 = len(df_shares[df_shares['r_grp'] == 'q0'])\n",
    "features = df_shares[['q1', 'q2', 'q3', 'q4']]\n",
    "pred_labels = df_shares['r_grp']\n",
    "silhouette_avg = silhouette_score(features, pred_labels)\n",
    "ch_score = calinski_harabasz_score(features, pred_labels)\n",
    "db_score = davies_bouldin_score(features, pred_labels)\n",
    "print((threshold, length_q0/len(df_shares), silhouette_avg, ch_score, db_score))    # Peak ch_score"
   ],
   "id": "6f5071c68f2a40ed",
   "outputs": [
    {
     "name": "stdout",
     "output_type": "stream",
     "text": [
      "(0.5, 0.470848103274959, 0.3532221085288052, 19675.74779533446, 0.8858016413392423)\n"
     ]
    }
   ],
   "execution_count": 26
  },
  {
   "metadata": {
    "ExecuteTime": {
     "end_time": "2025-02-13T19:57:23.729035Z",
     "start_time": "2025-02-13T19:57:23.561815Z"
    }
   },
   "cell_type": "code",
   "source": "r_grp_dict = df_shares.set_index('h3_id')['r_grp'].to_dict()",
   "id": "3a9147920ec233b",
   "outputs": [],
   "execution_count": 27
  },
  {
   "metadata": {},
   "cell_type": "markdown",
   "source": "## 3. Save mapping data",
   "id": "94ee8c2721131fb3"
  },
  {
   "metadata": {
    "ExecuteTime": {
     "end_time": "2025-02-13T20:00:49.209185Z",
     "start_time": "2025-02-13T20:00:49.057747Z"
    }
   },
   "cell_type": "code",
   "source": [
    "# Combine dictionaries into a single object (e.g., a tuple or dictionary)\n",
    "data = (f_grp_dict, r_grp_dict)  # Using a tuple\n",
    "# Alternatively: data = {'dict1': dict1, 'dict2': dict2}  # Using a dictionary\n",
    "\n",
    "# Save to a pickle file\n",
    "with open('dbs/combined_did_data/f_r_groups.pkl', 'wb') as f:\n",
    "    pickle.dump(data, f)"
   ],
   "id": "b7307782e9d32d2d",
   "outputs": [],
   "execution_count": 29
  },
  {
   "metadata": {},
   "cell_type": "markdown",
   "source": "## 4. Combining two dimensions",
   "id": "898cc789a7ebf321"
  },
  {
   "metadata": {
    "ExecuteTime": {
     "end_time": "2025-02-21T15:19:44.497338Z",
     "start_time": "2025-02-21T15:19:43.933048Z"
    }
   },
   "cell_type": "code",
   "source": [
    "df2plot2d = pd.merge(df2plot.groupby('h3_id')['f_share_v'].mean().reset_index(),\n",
    "                     df2plot.groupby('h3_id')['net_rent_v'].mean().reset_index(),\n",
    "                     on='h3_id', how='inner')\n",
    "print(len(df2plot2d))"
   ],
   "id": "3907bf1610b692dc",
   "outputs": [
    {
     "name": "stdout",
     "output_type": "stream",
     "text": [
      "31536\n"
     ]
    }
   ],
   "execution_count": 7
  },
  {
   "metadata": {
    "ExecuteTime": {
     "end_time": "2025-02-21T15:20:24.789901Z",
     "start_time": "2025-02-21T15:19:47.378345Z"
    }
   },
   "cell_type": "code",
   "source": [
    "# Create a 2D KDE plot\n",
    "sns.kdeplot(x=df2plot2d['f_share_v'], y=df2plot2d['net_rent_v'], cmap=\"Reds\", shade=True, levels=25, thresh=0.01)\n",
    "\n",
    "# Add labels and title\n",
    "plt.xlabel('f_share_v')\n",
    "plt.ylabel('net_rent_v')\n",
    "\n",
    "# Show the plot\n",
    "plt.show()"
   ],
   "id": "c7d1b67b82d27d60",
   "outputs": [
    {
     "data": {
      "text/plain": [
       "<Figure size 640x480 with 1 Axes>"
      ],
      "image/png": "[encoded data removed]"
     },
     "metadata": {},
     "output_type": "display_data"
    }
   ],
   "execution_count": 8
  },
  {
   "metadata": {
    "ExecuteTime": {
     "end_time": "2025-02-21T15:20:25.049726Z",
     "start_time": "2025-02-21T15:20:24.789901Z"
    }
   },
   "cell_type": "code",
   "source": [
    "# Create a scatter plot\n",
    "sns.scatterplot(x=df2plot2d['f_share_v'], y=df2plot2d['net_rent_v'], color=\"red\", s=0.5)\n",
    "\n",
    "# Add labels and title\n",
    "plt.xlabel('f_share_v')\n",
    "plt.ylabel('net_rent_v')\n",
    "\n",
    "# Show the plot\n",
    "plt.show()"
   ],
   "id": "1da11d8ada7bee11",
   "outputs": [
    {
     "data": {
      "text/plain": [
       "<Figure size 640x480 with 1 Axes>"
      ],
      "image/png": "[encoded data removed]"
     },
     "metadata": {},
     "output_type": "display_data"
    }
   ],
   "execution_count": 9
  },
  {
   "metadata": {
    "ExecuteTime": {
     "end_time": "2025-02-21T15:26:46.677925Z",
     "start_time": "2025-02-21T15:26:45.058224Z"
    }
   },
   "cell_type": "code",
   "source": [
    "# Get district quantile groups\n",
    "result_dict = dict()\n",
    "for variable in ['f_share_v', 'net_rent_v']:\n",
    "    df2f = df2plot.groupby(['h3_id', 'district'])[variable].mean().reset_index()\n",
    "    df2f_dvs = df2f.groupby('district').apply(lambda x: pd.Series(dict(dvs=[x[variable].quantile(i) for i in [0.25, 0.75]])),\n",
    "                                              include_groups=False).reset_index()\n",
    "    # Convert to dictionary {col1: col2}\n",
    "    result_dict[variable] = df2f_dvs.set_index('district')['dvs'].to_dict()"
   ],
   "id": "1f0ad10d72a7f79a",
   "outputs": [],
   "execution_count": 10
  },
  {
   "metadata": {
    "ExecuteTime": {
     "end_time": "2025-02-21T15:26:56.854394Z",
     "start_time": "2025-02-21T15:26:52.676062Z"
    }
   },
   "cell_type": "code",
   "source": [
    "# District level grouping\n",
    "def grouping_by_district_rf(data):\n",
    "    data_g = data[['f_share_v', 'net_rent_v', 'h3_id', 'date']].copy()\n",
    "    dvs = result_dict['f_share_v'][data.name]\n",
    "    # If fewer than 2 unique values remain, adjust to avoid errors\n",
    "    if dvs[0] == dvs[1]:\n",
    "        data_g.loc[:, 'f_grp'] = 'undefined'\n",
    "    else:\n",
    "        data_g.loc[:, 'f_grp'] = pd.cut(data_g['f_share_v'], [-0.01] + dvs + [10000], labels=['q1', 'q2', 'q3'])\n",
    "    dvs = result_dict['net_rent_v'][data.name]\n",
    "    if dvs[0] == dvs[1]:\n",
    "        data_g.loc[:, 'r_grp'] = 'undefined'\n",
    "    else:\n",
    "        data_g.loc[:, 'r_grp'] = pd.cut(data_g['net_rent_v'], [-0.01] + dvs + [10000], labels=['q1', 'q2', 'q3'])\n",
    "    return data_g\n",
    "\n",
    "tqdm.pandas()\n",
    "df2plot_grp = df2plot.groupby('district').progress_apply(grouping_by_district_rf).reset_index().sort_values(by=['h3_id'])\n",
    "df2plot_grp.head()"
   ],
   "id": "6c8591b7ff93b1e6",
   "outputs": [
    {
     "name": "stderr",
     "output_type": "stream",
     "text": [
      "100%|██████████| 378/378 [00:01<00:00, 189.24it/s]\n"
     ]
    },
    {
     "data": {
      "text/plain": [
       "       district  level_1  f_share_v  net_rent_v            h3_id       date  \\\n",
       "943441  Görlitz      374   4.096882    4.555278  881e265165fffff 2023-05-25   \n",
       "943067  Görlitz        0   5.325118    4.372026  881e265165fffff 2023-05-24   \n",
       "943340  Görlitz      273  13.256161    4.790347  881e265165fffff 2022-05-16   \n",
       "943153  Görlitz       86   3.924350    4.672366  881e265165fffff 2023-05-22   \n",
       "943475  Görlitz      408   9.164820    4.000000  881e265165fffff 2023-05-03   \n",
       "\n",
       "       f_grp r_grp  \n",
       "943441    q2    q1  \n",
       "943067    q2    q1  \n",
       "943340    q3    q1  \n",
       "943153    q2    q1  \n",
       "943475    q3    q1  "
      ],
      "text/html": [
       "<div>\n",
       "<style scoped>\n",
       "    .dataframe tbody tr th:only-of-type {\n",
       "        vertical-align: middle;\n",
       "    }\n",
       "\n",
       "    .dataframe tbody tr th {\n",
       "        vertical-align: top;\n",
       "    }\n",
       "\n",
       "    .dataframe thead th {\n",
       "        text-align: right;\n",
       "    }\n",
       "</style>\n",
       "<table border=\"1\" class=\"dataframe\">\n",
       "  <thead>\n",
       "    <tr style=\"text-align: right;\">\n",
       "      <th></th>\n",
       "      <th>district</th>\n",
       "      <th>level_1</th>\n",
       "      <th>f_share_v</th>\n",
       "      <th>net_rent_v</th>\n",
       "      <th>h3_id</th>\n",
       "      <th>date</th>\n",
       "      <th>f_grp</th>\n",
       "      <th>r_grp</th>\n",
       "    </tr>\n",
       "  </thead>\n",
       "  <tbody>\n",
       "    <tr>\n",
       "      <th>943441</th>\n",
       "      <td>Görlitz</td>\n",
       "      <td>374</td>\n",
       "      <td>4.096882</td>\n",
       "      <td>4.555278</td>\n",
       "      <td>881e265165fffff</td>\n",
       "      <td>2023-05-25</td>\n",
       "      <td>q2</td>\n",
       "      <td>q1</td>\n",
       "    </tr>\n",
       "    <tr>\n",
       "      <th>943067</th>\n",
       "      <td>Görlitz</td>\n",
       "      <td>0</td>\n",
       "      <td>5.325118</td>\n",
       "      <td>4.372026</td>\n",
       "      <td>881e265165fffff</td>\n",
       "      <td>2023-05-24</td>\n",
       "      <td>q2</td>\n",
       "      <td>q1</td>\n",
       "    </tr>\n",
       "    <tr>\n",
       "      <th>943340</th>\n",
       "      <td>Görlitz</td>\n",
       "      <td>273</td>\n",
       "      <td>13.256161</td>\n",
       "      <td>4.790347</td>\n",
       "      <td>881e265165fffff</td>\n",
       "      <td>2022-05-16</td>\n",
       "      <td>q3</td>\n",
       "      <td>q1</td>\n",
       "    </tr>\n",
       "    <tr>\n",
       "      <th>943153</th>\n",
       "      <td>Görlitz</td>\n",
       "      <td>86</td>\n",
       "      <td>3.924350</td>\n",
       "      <td>4.672366</td>\n",
       "      <td>881e265165fffff</td>\n",
       "      <td>2023-05-22</td>\n",
       "      <td>q2</td>\n",
       "      <td>q1</td>\n",
       "    </tr>\n",
       "    <tr>\n",
       "      <th>943475</th>\n",
       "      <td>Görlitz</td>\n",
       "      <td>408</td>\n",
       "      <td>9.164820</td>\n",
       "      <td>4.000000</td>\n",
       "      <td>881e265165fffff</td>\n",
       "      <td>2023-05-03</td>\n",
       "      <td>q3</td>\n",
       "      <td>q1</td>\n",
       "    </tr>\n",
       "  </tbody>\n",
       "</table>\n",
       "</div>"
      ]
     },
     "execution_count": 11,
     "metadata": {},
     "output_type": "execute_result"
    }
   ],
   "execution_count": 11
  },
  {
   "metadata": {
    "ExecuteTime": {
     "end_time": "2025-02-21T15:27:02.338116Z",
     "start_time": "2025-02-21T15:27:01.488376Z"
    }
   },
   "cell_type": "code",
   "source": [
    "df2plot_grp['fr_grp'] = df2plot_grp['f_grp'].astype(str) + df2plot_grp['r_grp'].astype(str)\n",
    "print(', '.join(df2plot_grp['fr_grp'].unique()))"
   ],
   "id": "d8470baac38dbd93",
   "outputs": [
    {
     "name": "stdout",
     "output_type": "stream",
     "text": [
      "q2q1, q3q1, q1q3, q3q2, q2q2, q3q3, q1q2, q2q3, q1q1\n"
     ]
    }
   ],
   "execution_count": 12
  },
  {
   "metadata": {
    "ExecuteTime": {
     "end_time": "2025-02-21T15:27:06.543800Z",
     "start_time": "2025-02-21T15:27:05.554173Z"
    }
   },
   "cell_type": "code",
   "source": [
    "# Calculate the share of occurrences for each f_gpp group\n",
    "df2plot_grp = df2plot_grp[df2plot_grp['fr_grp'] != 'undefinedundefined']\n",
    "group_labels = [f'q{x}q{y}' for x in range(1, 4) for y in range(1, 4)]\n",
    "df_grouped = df2plot_grp.groupby(['h3_id', 'fr_grp']).size().unstack(fill_value=0)\n",
    "\n",
    "# Normalize to get shares\n",
    "df_shares = df_grouped.div(df_grouped.sum(axis=1), axis=0)\n",
    "\n",
    "# Reset index to make h3_id a column\n",
    "df_shares = df_shares.reset_index()\n",
    "\n",
    "# Rename columns to include q1, q2, q3, q4\n",
    "df_shares = df_shares.reindex(columns=['h3_id'] + group_labels, fill_value=0)\n",
    "df_shares.head()"
   ],
   "id": "20314a09d611d722",
   "outputs": [
    {
     "data": {
      "text/plain": [
       "fr_grp            h3_id      q1q1      q1q2      q1q3      q2q1      q2q2  \\\n",
       "0       881e265165fffff  0.000000  0.000000  0.125000  0.625000  0.000000   \n",
       "1       881e265325fffff  0.000000  0.028571  0.000000  0.028571  0.074286   \n",
       "2       881e26532dfffff  0.036810  0.006135  0.000000  0.411043  0.042945   \n",
       "3       881e26ca39fffff  0.116279  0.093023  0.302326  0.255814  0.046512   \n",
       "4       881e26cb65fffff  0.153846  0.175824  0.351648  0.032967  0.208791   \n",
       "\n",
       "fr_grp      q2q3      q3q1      q3q2      q3q3  \n",
       "0       0.000000  0.250000  0.000000  0.000000  \n",
       "1       0.011429  0.468571  0.377143  0.011429  \n",
       "2       0.000000  0.423313  0.042945  0.036810  \n",
       "3       0.046512  0.069767  0.046512  0.023256  \n",
       "4       0.043956  0.010989  0.000000  0.021978  "
      ],
      "text/html": [
       "<div>\n",
       "<style scoped>\n",
       "    .dataframe tbody tr th:only-of-type {\n",
       "        vertical-align: middle;\n",
       "    }\n",
       "\n",
       "    .dataframe tbody tr th {\n",
       "        vertical-align: top;\n",
       "    }\n",
       "\n",
       "    .dataframe thead th {\n",
       "        text-align: right;\n",
       "    }\n",
       "</style>\n",
       "<table border=\"1\" class=\"dataframe\">\n",
       "  <thead>\n",
       "    <tr style=\"text-align: right;\">\n",
       "      <th>fr_grp</th>\n",
       "      <th>h3_id</th>\n",
       "      <th>q1q1</th>\n",
       "      <th>q1q2</th>\n",
       "      <th>q1q3</th>\n",
       "      <th>q2q1</th>\n",
       "      <th>q2q2</th>\n",
       "      <th>q2q3</th>\n",
       "      <th>q3q1</th>\n",
       "      <th>q3q2</th>\n",
       "      <th>q3q3</th>\n",
       "    </tr>\n",
       "  </thead>\n",
       "  <tbody>\n",
       "    <tr>\n",
       "      <th>0</th>\n",
       "      <td>881e265165fffff</td>\n",
       "      <td>0.000000</td>\n",
       "      <td>0.000000</td>\n",
       "      <td>0.125000</td>\n",
       "      <td>0.625000</td>\n",
       "      <td>0.000000</td>\n",
       "      <td>0.000000</td>\n",
       "      <td>0.250000</td>\n",
       "      <td>0.000000</td>\n",
       "      <td>0.000000</td>\n",
       "    </tr>\n",
       "    <tr>\n",
       "      <th>1</th>\n",
       "      <td>881e265325fffff</td>\n",
       "      <td>0.000000</td>\n",
       "      <td>0.028571</td>\n",
       "      <td>0.000000</td>\n",
       "      <td>0.028571</td>\n",
       "      <td>0.074286</td>\n",
       "      <td>0.011429</td>\n",
       "      <td>0.468571</td>\n",
       "      <td>0.377143</td>\n",
       "      <td>0.011429</td>\n",
       "    </tr>\n",
       "    <tr>\n",
       "      <th>2</th>\n",
       "      <td>881e26532dfffff</td>\n",
       "      <td>0.036810</td>\n",
       "      <td>0.006135</td>\n",
       "      <td>0.000000</td>\n",
       "      <td>0.411043</td>\n",
       "      <td>0.042945</td>\n",
       "      <td>0.000000</td>\n",
       "      <td>0.423313</td>\n",
       "      <td>0.042945</td>\n",
       "      <td>0.036810</td>\n",
       "    </tr>\n",
       "    <tr>\n",
       "      <th>3</th>\n",
       "      <td>881e26ca39fffff</td>\n",
       "      <td>0.116279</td>\n",
       "      <td>0.093023</td>\n",
       "      <td>0.302326</td>\n",
       "      <td>0.255814</td>\n",
       "      <td>0.046512</td>\n",
       "      <td>0.046512</td>\n",
       "      <td>0.069767</td>\n",
       "      <td>0.046512</td>\n",
       "      <td>0.023256</td>\n",
       "    </tr>\n",
       "    <tr>\n",
       "      <th>4</th>\n",
       "      <td>881e26cb65fffff</td>\n",
       "      <td>0.153846</td>\n",
       "      <td>0.175824</td>\n",
       "      <td>0.351648</td>\n",
       "      <td>0.032967</td>\n",
       "      <td>0.208791</td>\n",
       "      <td>0.043956</td>\n",
       "      <td>0.010989</td>\n",
       "      <td>0.000000</td>\n",
       "      <td>0.021978</td>\n",
       "    </tr>\n",
       "  </tbody>\n",
       "</table>\n",
       "</div>"
      ]
     },
     "execution_count": 13,
     "metadata": {},
     "output_type": "execute_result"
    }
   ],
   "execution_count": 13
  },
  {
   "metadata": {
    "ExecuteTime": {
     "end_time": "2025-02-21T15:28:43.699238Z",
     "start_time": "2025-02-21T15:27:10.371888Z"
    }
   },
   "cell_type": "code",
   "source": [
    "threshold_impact = list()\n",
    "group_labels = [f'q{x}q{y}' for x in range(1, 4) for y in range(1, 4)]\n",
    "for threshold in tqdm(range(1, 10), 'Threshold testing'):\n",
    "    threshold /= 10\n",
    "    def grouping(row):\n",
    "        q_list = [row[x] for x in group_labels]\n",
    "        if max(q_list) >= threshold:\n",
    "            return group_labels[q_list.index(max(q_list))]\n",
    "        else:\n",
    "            return 'q0'\n",
    "    df_shares.loc[:, 'fr_grp'] = df_shares.apply(lambda row: grouping(row), axis=1)\n",
    "    length_q0 = len(df_shares[df_shares['fr_grp'] == 'q0'])\n",
    "    features = df_shares[group_labels]\n",
    "    pred_labels = df_shares['fr_grp']\n",
    "    silhouette_avg = silhouette_score(features, pred_labels)\n",
    "    ch_score = calinski_harabasz_score(features, pred_labels)\n",
    "    db_score = davies_bouldin_score(features, pred_labels)\n",
    "    threshold_impact.append((threshold, length_q0/len(df_shares), silhouette_avg, ch_score, db_score))\n",
    "df_thr = pd.DataFrame(threshold_impact, columns=['threshold', 'share_q0', 'silhouette_avg', 'ch_score', 'db_score'])"
   ],
   "id": "c67bca2069332985",
   "outputs": [
    {
     "name": "stderr",
     "output_type": "stream",
     "text": [
      "Threshold testing: 100%|██████████| 9/9 [01:33<00:00, 10.35s/it]\n"
     ]
    }
   ],
   "execution_count": 14
  },
  {
   "metadata": {
    "ExecuteTime": {
     "end_time": "2025-02-21T15:29:44.065697Z",
     "start_time": "2025-02-21T15:29:43.709326Z"
    }
   },
   "cell_type": "code",
   "source": "df_thr.plot(x='threshold', y='share_q0')",
   "id": "8f9f05b19650c9f9",
   "outputs": [
    {
     "data": {
      "text/plain": [
       "<Axes: xlabel='threshold'>"
      ]
     },
     "execution_count": 15,
     "metadata": {},
     "output_type": "execute_result"
    },
    {
     "data": {
      "text/plain": [
       "<Figure size 640x480 with 1 Axes>"
      ],
      "image/png": "[encoded data removed]"
     },
     "metadata": {},
     "output_type": "display_data"
    }
   ],
   "execution_count": 15
  },
  {
   "metadata": {
    "ExecuteTime": {
     "end_time": "2025-02-21T15:29:46.952257Z",
     "start_time": "2025-02-21T15:29:46.697188Z"
    }
   },
   "cell_type": "code",
   "source": "df_thr.plot(x='threshold', y='ch_score')",
   "id": "4836c45e4bef8533",
   "outputs": [
    {
     "data": {
      "text/plain": [
       "<Axes: xlabel='threshold'>"
      ]
     },
     "execution_count": 16,
     "metadata": {},
     "output_type": "execute_result"
    },
    {
     "data": {
      "text/plain": [
       "<Figure size 640x480 with 1 Axes>"
      ],
      "image/png": "[encoded data removed]"
     },
     "metadata": {},
     "output_type": "display_data"
    }
   ],
   "execution_count": 16
  },
  {
   "metadata": {},
   "cell_type": "markdown",
   "source": "### 4.1 Thresholds 0.3-0.6",
   "id": "76caafc95ae49e92"
  },
  {
   "metadata": {
    "ExecuteTime": {
     "end_time": "2025-02-21T15:30:33.681591Z",
     "start_time": "2025-02-21T15:29:52.545027Z"
    }
   },
   "cell_type": "code",
   "source": [
    "r_grp_dict = dict()\n",
    "\n",
    "for threshold in [3, 4, 5, 6]:\n",
    "    threshold /= 10\n",
    "    def grouping(row):\n",
    "            q_list = [row[x] for x in group_labels]\n",
    "            if max(q_list) >= threshold:\n",
    "                return group_labels[q_list.index(max(q_list))]\n",
    "            else:\n",
    "                return 'q0'\n",
    "    df_shares.loc[:, 'fr_grp'] = df_shares.apply(lambda row: grouping(row), axis=1)\n",
    "    length_q0 = len(df_shares[df_shares['fr_grp'] == 'q0'])\n",
    "    features = df_shares[group_labels]\n",
    "    pred_labels = df_shares['fr_grp']\n",
    "    silhouette_avg = silhouette_score(features, pred_labels)\n",
    "    ch_score = calinski_harabasz_score(features, pred_labels)\n",
    "    db_score = davies_bouldin_score(features, pred_labels)\n",
    "    print((threshold, length_q0/len(df_shares), silhouette_avg, ch_score, db_score))\n",
    "    r_grp_dict[f'thr_{int(threshold*10)}'] = df_shares.set_index('h3_id')['fr_grp'].to_dict()# Peak ch_score"
   ],
   "id": "fd5dbe23c2f3af17",
   "outputs": [
    {
     "name": "stdout",
     "output_type": "stream",
     "text": [
      "(0.3, 0.4915334855403349, 0.20132626854400593, 4091.94078955768, 1.186064841398235)\n",
      "(0.4, 0.7423579401319127, 0.20516370624780686, 2893.4637570117525, 1.0413414964836603)\n",
      "(0.5, 0.8595256215119229, 0.22873273819209516, 1898.0981423425342, 0.9816823100302173)\n",
      "(0.6, 0.9360413495687468, 0.25318708651658395, 1112.1502941018148, 0.7280003456832895)\n"
     ]
    }
   ],
   "execution_count": 17
  },
  {
   "metadata": {
    "ExecuteTime": {
     "end_time": "2025-02-21T15:30:35.629759Z",
     "start_time": "2025-02-21T15:30:35.431576Z"
    }
   },
   "cell_type": "code",
   "source": [
    "# Save to a pickle file\n",
    "with open(data_folder + 'fr_groups.pkl', 'wb') as f:\n",
    "    pickle.dump(r_grp_dict, f)"
   ],
   "id": "69c3fd036a321eef",
   "outputs": [],
   "execution_count": 18
  },
  {
   "metadata": {},
   "cell_type": "code",
   "outputs": [],
   "execution_count": null,
   "source": "",
   "id": "5c2eb75cd40a3ddb"
  }
 ],
 "metadata": {
  "kernelspec": {
   "display_name": "Python 3",
   "language": "python",
   "name": "python3"
  },
  "language_info": {
   "codemirror_mode": {
    "name": "ipython",
    "version": 2
   },
   "file_extension": ".py",
   "mimetype": "text/x-python",
   "name": "python",
   "nbconvert_exporter": "python",
   "pygments_lexer": "ipython2",
   "version": "2.7.6"
  }
 },
 "nbformat": 4,
 "nbformat_minor": 5
}
