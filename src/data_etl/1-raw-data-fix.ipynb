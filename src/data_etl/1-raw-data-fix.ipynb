{
 "cells": [
  {
   "cell_type": "markdown",
   "source": [
    "# Check problematic raw data files"
   ],
   "metadata": {
    "collapsed": false
   },
   "id": "539291452e996bca"
  },
  {
   "cell_type": "code",
   "execution_count": 1,
   "outputs": [
    {
     "name": "stdout",
     "output_type": "stream",
     "text": [
      "D:\\nine-euro-ticket-de\n"
     ]
    }
   ],
   "source": [
    "%load_ext autoreload\n",
    "%autoreload 2\n",
    "%cd D:\\nine-euro-ticket-de"
   ],
   "metadata": {
    "collapsed": false,
    "ExecuteTime": {
     "end_time": "2024-04-15T09:17:43.231212900Z",
     "start_time": "2024-04-15T09:17:43.121841200Z"
    }
   },
   "id": "initial_id"
  },
  {
   "cell_type": "code",
   "execution_count": 2,
   "outputs": [],
   "source": [
    "# Load libs\n",
    "import pandas as pd\n",
    "import os\n",
    "from tqdm import tqdm"
   ],
   "metadata": {
    "collapsed": false,
    "ExecuteTime": {
     "end_time": "2024-04-15T09:17:43.842177600Z",
     "start_time": "2024-04-15T09:17:43.717144Z"
    }
   },
   "id": "702a98c123fc4aff"
  },
  {
   "cell_type": "code",
   "execution_count": 4,
   "outputs": [
    {
     "name": "stderr",
     "output_type": "stream",
     "text": [
      "C:\\Users\\yuanlia\\AppData\\Local\\Temp\\ipykernel_17604\\2235260106.py:3: DtypeWarning: Columns (0,3,4) have mixed types. Specify dtype option on import or set low_memory=False.\n",
      "  df = pd.read_csv(file_path, sep='\\t', compression='gzip', usecols=selectedcols)\n"
     ]
    }
   ],
   "source": [
    "file_path = 'E:/raw_data_de/raw_data_de_2019/08/18/locations-13-part0001.csv.gz'\n",
    "selectedcols = ['timestamp', 'device_aid', 'latitude', 'longitude', 'location_method']\n",
    "df = pd.read_csv(file_path, sep='\\t', compression='gzip', usecols=selectedcols)"
   ],
   "metadata": {
    "collapsed": false,
    "ExecuteTime": {
     "end_time": "2024-03-12T20:08:14.920292300Z",
     "start_time": "2024-03-12T20:08:02.166269900Z"
    }
   },
   "id": "e863837b398ef663"
  },
  {
   "cell_type": "code",
   "execution_count": 8,
   "outputs": [
    {
     "name": "stdout",
     "output_type": "stream",
     "text": [
      "timestamp 5555870\n",
      "timestamp after 5523102\n",
      "longitude 5523102\n",
      "longitude after 5523102\n",
      "location_method 5523102\n",
      "location_method after 5523102\n"
     ]
    }
   ],
   "source": [
    "for column in (df.columns[0], df.columns[3], df.columns[4]):\n",
    "    # Determine the most common type in the column\n",
    "    most_common_type = df[column].apply(type).mode()[0]\n",
    "    \n",
    "    # Filter out rows that don't match the most common type\n",
    "    print(column, len(df))\n",
    "    df = df[df[column].apply(lambda x: isinstance(x, most_common_type))]\n",
    "    print(column, 'after', len(df))"
   ],
   "metadata": {
    "collapsed": false,
    "ExecuteTime": {
     "end_time": "2024-03-12T20:13:10.303921900Z",
     "start_time": "2024-03-12T20:13:05.557217300Z"
    }
   },
   "id": "9cc47181776e76a0"
  },
  {
   "cell_type": "code",
   "execution_count": 9,
   "outputs": [],
   "source": [
    "df.to_csv(file_path, sep='\\t', compression='gzip', index=False)"
   ],
   "metadata": {
    "collapsed": false,
    "ExecuteTime": {
     "end_time": "2024-03-12T20:15:34.381804700Z",
     "start_time": "2024-03-12T20:15:00.444017800Z"
    }
   },
   "id": "a02712e6eb487001"
  },
  {
   "cell_type": "markdown",
   "source": [
    "## Merge group folders"
   ],
   "metadata": {
    "collapsed": false
   },
   "id": "5b9ee6fdc9412c4b"
  },
  {
   "cell_type": "code",
   "execution_count": 1,
   "outputs": [
    {
     "name": "stdout",
     "output_type": "stream",
     "text": [
      "Deleted folder: D:/MAD_dbs/raw_data_de/format_parquet\\grp_0.0\n",
      "Deleted folder: D:/MAD_dbs/raw_data_de/format_parquet\\grp_1.0\n",
      "Deleted folder: D:/MAD_dbs/raw_data_de/format_parquet\\grp_2.0\n",
      "Deleted folder: D:/MAD_dbs/raw_data_de/format_parquet\\grp_3.0\n",
      "Deleted folder: D:/MAD_dbs/raw_data_de/format_parquet\\grp_4.0\n",
      "Deleted folder: D:/MAD_dbs/raw_data_de/format_parquet\\grp_5.0\n",
      "Deleted folder: D:/MAD_dbs/raw_data_de/format_parquet\\grp_6.0\n",
      "Deleted folder: D:/MAD_dbs/raw_data_de/format_parquet\\grp_7.0\n",
      "Deleted folder: D:/MAD_dbs/raw_data_de/format_parquet\\grp_8.0\n",
      "Deleted folder: D:/MAD_dbs/raw_data_de/format_parquet\\grp_9.0\n",
      "Deleted folder: D:/MAD_dbs/raw_data_de/format_parquet\\grp_10.0\n",
      "Deleted folder: D:/MAD_dbs/raw_data_de/format_parquet\\grp_11.0\n",
      "Deleted folder: D:/MAD_dbs/raw_data_de/format_parquet\\grp_12.0\n",
      "Deleted folder: D:/MAD_dbs/raw_data_de/format_parquet\\grp_13.0\n",
      "Deleted folder: D:/MAD_dbs/raw_data_de/format_parquet\\grp_14.0\n",
      "Deleted folder: D:/MAD_dbs/raw_data_de/format_parquet\\grp_15.0\n",
      "Deleted folder: D:/MAD_dbs/raw_data_de/format_parquet\\grp_16.0\n",
      "Deleted folder: D:/MAD_dbs/raw_data_de/format_parquet\\grp_17.0\n",
      "Deleted folder: D:/MAD_dbs/raw_data_de/format_parquet\\grp_18.0\n",
      "Deleted folder: D:/MAD_dbs/raw_data_de/format_parquet\\grp_19.0\n",
      "Deleted folder: D:/MAD_dbs/raw_data_de/format_parquet\\grp_20.0\n",
      "Deleted folder: D:/MAD_dbs/raw_data_de/format_parquet\\grp_21.0\n",
      "Deleted folder: D:/MAD_dbs/raw_data_de/format_parquet\\grp_22.0\n",
      "Deleted folder: D:/MAD_dbs/raw_data_de/format_parquet\\grp_23.0\n",
      "Deleted folder: D:/MAD_dbs/raw_data_de/format_parquet\\grp_24.0\n",
      "Deleted folder: D:/MAD_dbs/raw_data_de/format_parquet\\grp_25.0\n",
      "Deleted folder: D:/MAD_dbs/raw_data_de/format_parquet\\grp_26.0\n",
      "Deleted folder: D:/MAD_dbs/raw_data_de/format_parquet\\grp_27.0\n",
      "Deleted folder: D:/MAD_dbs/raw_data_de/format_parquet\\grp_28.0\n",
      "Deleted folder: D:/MAD_dbs/raw_data_de/format_parquet\\grp_29.0\n",
      "Deleted folder: D:/MAD_dbs/raw_data_de/format_parquet\\grp_30.0\n",
      "Deleted folder: D:/MAD_dbs/raw_data_de/format_parquet\\grp_31.0\n",
      "Deleted folder: D:/MAD_dbs/raw_data_de/format_parquet\\grp_32.0\n",
      "Deleted folder: D:/MAD_dbs/raw_data_de/format_parquet\\grp_33.0\n",
      "Deleted folder: D:/MAD_dbs/raw_data_de/format_parquet\\grp_34.0\n",
      "Deleted folder: D:/MAD_dbs/raw_data_de/format_parquet\\grp_35.0\n",
      "Deleted folder: D:/MAD_dbs/raw_data_de/format_parquet\\grp_36.0\n",
      "Deleted folder: D:/MAD_dbs/raw_data_de/format_parquet\\grp_37.0\n",
      "Deleted folder: D:/MAD_dbs/raw_data_de/format_parquet\\grp_38.0\n",
      "Deleted folder: D:/MAD_dbs/raw_data_de/format_parquet\\grp_39.0\n",
      "Deleted folder: D:/MAD_dbs/raw_data_de/format_parquet\\grp_40.0\n",
      "Deleted folder: D:/MAD_dbs/raw_data_de/format_parquet\\grp_41.0\n",
      "Deleted folder: D:/MAD_dbs/raw_data_de/format_parquet\\grp_42.0\n",
      "Deleted folder: D:/MAD_dbs/raw_data_de/format_parquet\\grp_43.0\n",
      "Deleted folder: D:/MAD_dbs/raw_data_de/format_parquet\\grp_44.0\n",
      "Deleted folder: D:/MAD_dbs/raw_data_de/format_parquet\\grp_45.0\n",
      "Deleted folder: D:/MAD_dbs/raw_data_de/format_parquet\\grp_46.0\n",
      "Deleted folder: D:/MAD_dbs/raw_data_de/format_parquet\\grp_47.0\n",
      "Deleted folder: D:/MAD_dbs/raw_data_de/format_parquet\\grp_48.0\n",
      "Deleted folder: D:/MAD_dbs/raw_data_de/format_parquet\\grp_49.0\n",
      "Deleted folder: D:/MAD_dbs/raw_data_de/format_parquet\\grp_50.0\n",
      "Deleted folder: D:/MAD_dbs/raw_data_de/format_parquet\\grp_51.0\n",
      "Deleted folder: D:/MAD_dbs/raw_data_de/format_parquet\\grp_52.0\n",
      "Deleted folder: D:/MAD_dbs/raw_data_de/format_parquet\\grp_53.0\n",
      "Deleted folder: D:/MAD_dbs/raw_data_de/format_parquet\\grp_54.0\n",
      "Deleted folder: D:/MAD_dbs/raw_data_de/format_parquet\\grp_55.0\n",
      "Deleted folder: D:/MAD_dbs/raw_data_de/format_parquet\\grp_56.0\n",
      "Deleted folder: D:/MAD_dbs/raw_data_de/format_parquet\\grp_57.0\n",
      "Deleted folder: D:/MAD_dbs/raw_data_de/format_parquet\\grp_58.0\n",
      "Deleted folder: D:/MAD_dbs/raw_data_de/format_parquet\\grp_59.0\n",
      "Deleted folder: D:/MAD_dbs/raw_data_de/format_parquet\\grp_60.0\n",
      "Deleted folder: D:/MAD_dbs/raw_data_de/format_parquet\\grp_61.0\n",
      "Deleted folder: D:/MAD_dbs/raw_data_de/format_parquet\\grp_62.0\n",
      "Deleted folder: D:/MAD_dbs/raw_data_de/format_parquet\\grp_63.0\n",
      "Deleted folder: D:/MAD_dbs/raw_data_de/format_parquet\\grp_64.0\n",
      "Deleted folder: D:/MAD_dbs/raw_data_de/format_parquet\\grp_65.0\n",
      "Deleted folder: D:/MAD_dbs/raw_data_de/format_parquet\\grp_66.0\n",
      "Deleted folder: D:/MAD_dbs/raw_data_de/format_parquet\\grp_67.0\n",
      "Deleted folder: D:/MAD_dbs/raw_data_de/format_parquet\\grp_68.0\n",
      "Deleted folder: D:/MAD_dbs/raw_data_de/format_parquet\\grp_69.0\n",
      "Deleted folder: D:/MAD_dbs/raw_data_de/format_parquet\\grp_70.0\n",
      "Deleted folder: D:/MAD_dbs/raw_data_de/format_parquet\\grp_71.0\n",
      "Deleted folder: D:/MAD_dbs/raw_data_de/format_parquet\\grp_72.0\n",
      "Deleted folder: D:/MAD_dbs/raw_data_de/format_parquet\\grp_73.0\n",
      "Deleted folder: D:/MAD_dbs/raw_data_de/format_parquet\\grp_74.0\n",
      "Deleted folder: D:/MAD_dbs/raw_data_de/format_parquet\\grp_75.0\n",
      "Deleted folder: D:/MAD_dbs/raw_data_de/format_parquet\\grp_76.0\n",
      "Deleted folder: D:/MAD_dbs/raw_data_de/format_parquet\\grp_77.0\n",
      "Deleted folder: D:/MAD_dbs/raw_data_de/format_parquet\\grp_78.0\n",
      "Deleted folder: D:/MAD_dbs/raw_data_de/format_parquet\\grp_79.0\n",
      "Deleted folder: D:/MAD_dbs/raw_data_de/format_parquet\\grp_80.0\n",
      "Deleted folder: D:/MAD_dbs/raw_data_de/format_parquet\\grp_81.0\n",
      "Deleted folder: D:/MAD_dbs/raw_data_de/format_parquet\\grp_82.0\n",
      "Deleted folder: D:/MAD_dbs/raw_data_de/format_parquet\\grp_83.0\n",
      "Deleted folder: D:/MAD_dbs/raw_data_de/format_parquet\\grp_84.0\n",
      "Deleted folder: D:/MAD_dbs/raw_data_de/format_parquet\\grp_85.0\n",
      "Deleted folder: D:/MAD_dbs/raw_data_de/format_parquet\\grp_86.0\n",
      "Deleted folder: D:/MAD_dbs/raw_data_de/format_parquet\\grp_87.0\n",
      "Deleted folder: D:/MAD_dbs/raw_data_de/format_parquet\\grp_88.0\n",
      "Deleted folder: D:/MAD_dbs/raw_data_de/format_parquet\\grp_89.0\n",
      "Deleted folder: D:/MAD_dbs/raw_data_de/format_parquet\\grp_90.0\n",
      "Deleted folder: D:/MAD_dbs/raw_data_de/format_parquet\\grp_91.0\n",
      "Deleted folder: D:/MAD_dbs/raw_data_de/format_parquet\\grp_92.0\n",
      "Deleted folder: D:/MAD_dbs/raw_data_de/format_parquet\\grp_93.0\n",
      "Deleted folder: D:/MAD_dbs/raw_data_de/format_parquet\\grp_94.0\n",
      "Deleted folder: D:/MAD_dbs/raw_data_de/format_parquet\\grp_95.0\n",
      "Deleted folder: D:/MAD_dbs/raw_data_de/format_parquet\\grp_96.0\n",
      "Deleted folder: D:/MAD_dbs/raw_data_de/format_parquet\\grp_97.0\n",
      "Deleted folder: D:/MAD_dbs/raw_data_de/format_parquet\\grp_98.0\n",
      "Deleted folder: D:/MAD_dbs/raw_data_de/format_parquet\\grp_99.0\n",
      "Deleted folder: D:/MAD_dbs/raw_data_de/format_parquet\\grp_100.0\n",
      "Deleted folder: D:/MAD_dbs/raw_data_de/format_parquet\\grp_101.0\n",
      "Deleted folder: D:/MAD_dbs/raw_data_de/format_parquet\\grp_102.0\n",
      "Deleted folder: D:/MAD_dbs/raw_data_de/format_parquet\\grp_103.0\n",
      "Deleted folder: D:/MAD_dbs/raw_data_de/format_parquet\\grp_104.0\n",
      "Deleted folder: D:/MAD_dbs/raw_data_de/format_parquet\\grp_105.0\n",
      "Deleted folder: D:/MAD_dbs/raw_data_de/format_parquet\\grp_106.0\n",
      "Deleted folder: D:/MAD_dbs/raw_data_de/format_parquet\\grp_107.0\n",
      "Deleted folder: D:/MAD_dbs/raw_data_de/format_parquet\\grp_108.0\n",
      "Deleted folder: D:/MAD_dbs/raw_data_de/format_parquet\\grp_109.0\n",
      "Deleted folder: D:/MAD_dbs/raw_data_de/format_parquet\\grp_110.0\n",
      "Deleted folder: D:/MAD_dbs/raw_data_de/format_parquet\\grp_111.0\n",
      "Deleted folder: D:/MAD_dbs/raw_data_de/format_parquet\\grp_112.0\n",
      "Deleted folder: D:/MAD_dbs/raw_data_de/format_parquet\\grp_113.0\n",
      "Deleted folder: D:/MAD_dbs/raw_data_de/format_parquet\\grp_114.0\n",
      "Deleted folder: D:/MAD_dbs/raw_data_de/format_parquet\\grp_115.0\n",
      "Deleted folder: D:/MAD_dbs/raw_data_de/format_parquet\\grp_116.0\n",
      "Deleted folder: D:/MAD_dbs/raw_data_de/format_parquet\\grp_117.0\n",
      "Deleted folder: D:/MAD_dbs/raw_data_de/format_parquet\\grp_118.0\n",
      "Deleted folder: D:/MAD_dbs/raw_data_de/format_parquet\\grp_119.0\n",
      "Deleted folder: D:/MAD_dbs/raw_data_de/format_parquet\\grp_120.0\n",
      "Deleted folder: D:/MAD_dbs/raw_data_de/format_parquet\\grp_121.0\n",
      "Deleted folder: D:/MAD_dbs/raw_data_de/format_parquet\\grp_122.0\n",
      "Deleted folder: D:/MAD_dbs/raw_data_de/format_parquet\\grp_123.0\n",
      "Deleted folder: D:/MAD_dbs/raw_data_de/format_parquet\\grp_124.0\n",
      "Deleted folder: D:/MAD_dbs/raw_data_de/format_parquet\\grp_125.0\n",
      "Deleted folder: D:/MAD_dbs/raw_data_de/format_parquet\\grp_126.0\n",
      "Deleted folder: D:/MAD_dbs/raw_data_de/format_parquet\\grp_127.0\n",
      "Deleted folder: D:/MAD_dbs/raw_data_de/format_parquet\\grp_128.0\n",
      "Deleted folder: D:/MAD_dbs/raw_data_de/format_parquet\\grp_129.0\n",
      "Deleted folder: D:/MAD_dbs/raw_data_de/format_parquet\\grp_130.0\n",
      "Deleted folder: D:/MAD_dbs/raw_data_de/format_parquet\\grp_131.0\n",
      "Deleted folder: D:/MAD_dbs/raw_data_de/format_parquet\\grp_132.0\n",
      "Deleted folder: D:/MAD_dbs/raw_data_de/format_parquet\\grp_133.0\n",
      "Deleted folder: D:/MAD_dbs/raw_data_de/format_parquet\\grp_134.0\n",
      "Deleted folder: D:/MAD_dbs/raw_data_de/format_parquet\\grp_135.0\n",
      "Deleted folder: D:/MAD_dbs/raw_data_de/format_parquet\\grp_136.0\n",
      "Deleted folder: D:/MAD_dbs/raw_data_de/format_parquet\\grp_137.0\n",
      "Deleted folder: D:/MAD_dbs/raw_data_de/format_parquet\\grp_138.0\n",
      "Deleted folder: D:/MAD_dbs/raw_data_de/format_parquet\\grp_139.0\n",
      "Deleted folder: D:/MAD_dbs/raw_data_de/format_parquet\\grp_140.0\n",
      "Deleted folder: D:/MAD_dbs/raw_data_de/format_parquet\\grp_141.0\n",
      "Deleted folder: D:/MAD_dbs/raw_data_de/format_parquet\\grp_142.0\n",
      "Deleted folder: D:/MAD_dbs/raw_data_de/format_parquet\\grp_143.0\n",
      "Deleted folder: D:/MAD_dbs/raw_data_de/format_parquet\\grp_144.0\n",
      "Deleted folder: D:/MAD_dbs/raw_data_de/format_parquet\\grp_145.0\n",
      "Deleted folder: D:/MAD_dbs/raw_data_de/format_parquet\\grp_146.0\n",
      "Deleted folder: D:/MAD_dbs/raw_data_de/format_parquet\\grp_147.0\n",
      "Deleted folder: D:/MAD_dbs/raw_data_de/format_parquet\\grp_148.0\n",
      "Deleted folder: D:/MAD_dbs/raw_data_de/format_parquet\\grp_149.0\n",
      "Deleted folder: D:/MAD_dbs/raw_data_de/format_parquet\\grp_150.0\n",
      "Deleted folder: D:/MAD_dbs/raw_data_de/format_parquet\\grp_151.0\n",
      "Deleted folder: D:/MAD_dbs/raw_data_de/format_parquet\\grp_152.0\n",
      "Deleted folder: D:/MAD_dbs/raw_data_de/format_parquet\\grp_153.0\n",
      "Deleted folder: D:/MAD_dbs/raw_data_de/format_parquet\\grp_154.0\n",
      "Deleted folder: D:/MAD_dbs/raw_data_de/format_parquet\\grp_155.0\n",
      "Deleted folder: D:/MAD_dbs/raw_data_de/format_parquet\\grp_156.0\n",
      "Deleted folder: D:/MAD_dbs/raw_data_de/format_parquet\\grp_157.0\n",
      "Deleted folder: D:/MAD_dbs/raw_data_de/format_parquet\\grp_158.0\n",
      "Deleted folder: D:/MAD_dbs/raw_data_de/format_parquet\\grp_159.0\n",
      "Deleted folder: D:/MAD_dbs/raw_data_de/format_parquet\\grp_160.0\n",
      "Deleted folder: D:/MAD_dbs/raw_data_de/format_parquet\\grp_161.0\n",
      "Deleted folder: D:/MAD_dbs/raw_data_de/format_parquet\\grp_162.0\n",
      "Deleted folder: D:/MAD_dbs/raw_data_de/format_parquet\\grp_163.0\n",
      "Deleted folder: D:/MAD_dbs/raw_data_de/format_parquet\\grp_164.0\n",
      "Deleted folder: D:/MAD_dbs/raw_data_de/format_parquet\\grp_165.0\n",
      "Deleted folder: D:/MAD_dbs/raw_data_de/format_parquet\\grp_166.0\n",
      "Deleted folder: D:/MAD_dbs/raw_data_de/format_parquet\\grp_167.0\n",
      "Deleted folder: D:/MAD_dbs/raw_data_de/format_parquet\\grp_168.0\n",
      "Deleted folder: D:/MAD_dbs/raw_data_de/format_parquet\\grp_169.0\n",
      "Deleted folder: D:/MAD_dbs/raw_data_de/format_parquet\\grp_170.0\n",
      "Deleted folder: D:/MAD_dbs/raw_data_de/format_parquet\\grp_171.0\n",
      "Deleted folder: D:/MAD_dbs/raw_data_de/format_parquet\\grp_172.0\n",
      "Deleted folder: D:/MAD_dbs/raw_data_de/format_parquet\\grp_173.0\n",
      "Deleted folder: D:/MAD_dbs/raw_data_de/format_parquet\\grp_174.0\n",
      "Deleted folder: D:/MAD_dbs/raw_data_de/format_parquet\\grp_175.0\n",
      "Deleted folder: D:/MAD_dbs/raw_data_de/format_parquet\\grp_176.0\n",
      "Deleted folder: D:/MAD_dbs/raw_data_de/format_parquet\\grp_177.0\n",
      "Deleted folder: D:/MAD_dbs/raw_data_de/format_parquet\\grp_178.0\n",
      "Deleted folder: D:/MAD_dbs/raw_data_de/format_parquet\\grp_179.0\n",
      "Deleted folder: D:/MAD_dbs/raw_data_de/format_parquet\\grp_180.0\n",
      "Deleted folder: D:/MAD_dbs/raw_data_de/format_parquet\\grp_181.0\n",
      "Deleted folder: D:/MAD_dbs/raw_data_de/format_parquet\\grp_182.0\n",
      "Deleted folder: D:/MAD_dbs/raw_data_de/format_parquet\\grp_183.0\n",
      "Deleted folder: D:/MAD_dbs/raw_data_de/format_parquet\\grp_184.0\n",
      "Deleted folder: D:/MAD_dbs/raw_data_de/format_parquet\\grp_185.0\n",
      "Deleted folder: D:/MAD_dbs/raw_data_de/format_parquet\\grp_186.0\n",
      "Deleted folder: D:/MAD_dbs/raw_data_de/format_parquet\\grp_187.0\n",
      "Deleted folder: D:/MAD_dbs/raw_data_de/format_parquet\\grp_188.0\n",
      "Deleted folder: D:/MAD_dbs/raw_data_de/format_parquet\\grp_189.0\n",
      "Deleted folder: D:/MAD_dbs/raw_data_de/format_parquet\\grp_190.0\n",
      "Deleted folder: D:/MAD_dbs/raw_data_de/format_parquet\\grp_191.0\n",
      "Deleted folder: D:/MAD_dbs/raw_data_de/format_parquet\\grp_192.0\n",
      "Deleted folder: D:/MAD_dbs/raw_data_de/format_parquet\\grp_193.0\n",
      "Deleted folder: D:/MAD_dbs/raw_data_de/format_parquet\\grp_194.0\n",
      "Deleted folder: D:/MAD_dbs/raw_data_de/format_parquet\\grp_195.0\n",
      "Deleted folder: D:/MAD_dbs/raw_data_de/format_parquet\\grp_196.0\n",
      "Deleted folder: D:/MAD_dbs/raw_data_de/format_parquet\\grp_197.0\n",
      "Deleted folder: D:/MAD_dbs/raw_data_de/format_parquet\\grp_198.0\n",
      "Deleted folder: D:/MAD_dbs/raw_data_de/format_parquet\\grp_199.0\n",
      "Deleted folder: D:/MAD_dbs/raw_data_de/format_parquet\\grp_200.0\n",
      "Deleted folder: D:/MAD_dbs/raw_data_de/format_parquet\\grp_201.0\n",
      "Deleted folder: D:/MAD_dbs/raw_data_de/format_parquet\\grp_202.0\n",
      "Deleted folder: D:/MAD_dbs/raw_data_de/format_parquet\\grp_203.0\n",
      "Deleted folder: D:/MAD_dbs/raw_data_de/format_parquet\\grp_204.0\n",
      "Deleted folder: D:/MAD_dbs/raw_data_de/format_parquet\\grp_205.0\n",
      "Deleted folder: D:/MAD_dbs/raw_data_de/format_parquet\\grp_206.0\n",
      "Deleted folder: D:/MAD_dbs/raw_data_de/format_parquet\\grp_207.0\n",
      "Deleted folder: D:/MAD_dbs/raw_data_de/format_parquet\\grp_208.0\n",
      "Deleted folder: D:/MAD_dbs/raw_data_de/format_parquet\\grp_209.0\n",
      "Deleted folder: D:/MAD_dbs/raw_data_de/format_parquet\\grp_210.0\n",
      "Deleted folder: D:/MAD_dbs/raw_data_de/format_parquet\\grp_211.0\n",
      "Deleted folder: D:/MAD_dbs/raw_data_de/format_parquet\\grp_212.0\n",
      "Deleted folder: D:/MAD_dbs/raw_data_de/format_parquet\\grp_213.0\n",
      "Deleted folder: D:/MAD_dbs/raw_data_de/format_parquet\\grp_214.0\n",
      "Deleted folder: D:/MAD_dbs/raw_data_de/format_parquet\\grp_215.0\n",
      "Deleted folder: D:/MAD_dbs/raw_data_de/format_parquet\\grp_216.0\n",
      "Deleted folder: D:/MAD_dbs/raw_data_de/format_parquet\\grp_217.0\n",
      "Deleted folder: D:/MAD_dbs/raw_data_de/format_parquet\\grp_218.0\n",
      "Deleted folder: D:/MAD_dbs/raw_data_de/format_parquet\\grp_219.0\n",
      "Deleted folder: D:/MAD_dbs/raw_data_de/format_parquet\\grp_220.0\n",
      "Deleted folder: D:/MAD_dbs/raw_data_de/format_parquet\\grp_221.0\n",
      "Deleted folder: D:/MAD_dbs/raw_data_de/format_parquet\\grp_222.0\n",
      "Deleted folder: D:/MAD_dbs/raw_data_de/format_parquet\\grp_223.0\n",
      "Deleted folder: D:/MAD_dbs/raw_data_de/format_parquet\\grp_224.0\n",
      "Deleted folder: D:/MAD_dbs/raw_data_de/format_parquet\\grp_225.0\n",
      "Deleted folder: D:/MAD_dbs/raw_data_de/format_parquet\\grp_226.0\n",
      "Deleted folder: D:/MAD_dbs/raw_data_de/format_parquet\\grp_227.0\n",
      "Deleted folder: D:/MAD_dbs/raw_data_de/format_parquet\\grp_228.0\n",
      "Deleted folder: D:/MAD_dbs/raw_data_de/format_parquet\\grp_229.0\n",
      "Deleted folder: D:/MAD_dbs/raw_data_de/format_parquet\\grp_230.0\n",
      "Deleted folder: D:/MAD_dbs/raw_data_de/format_parquet\\grp_231.0\n",
      "Deleted folder: D:/MAD_dbs/raw_data_de/format_parquet\\grp_232.0\n",
      "Deleted folder: D:/MAD_dbs/raw_data_de/format_parquet\\grp_233.0\n",
      "Deleted folder: D:/MAD_dbs/raw_data_de/format_parquet\\grp_234.0\n",
      "Deleted folder: D:/MAD_dbs/raw_data_de/format_parquet\\grp_235.0\n",
      "Deleted folder: D:/MAD_dbs/raw_data_de/format_parquet\\grp_236.0\n",
      "Deleted folder: D:/MAD_dbs/raw_data_de/format_parquet\\grp_237.0\n",
      "Deleted folder: D:/MAD_dbs/raw_data_de/format_parquet\\grp_238.0\n",
      "Deleted folder: D:/MAD_dbs/raw_data_de/format_parquet\\grp_239.0\n",
      "Deleted folder: D:/MAD_dbs/raw_data_de/format_parquet\\grp_240.0\n",
      "Deleted folder: D:/MAD_dbs/raw_data_de/format_parquet\\grp_241.0\n",
      "Deleted folder: D:/MAD_dbs/raw_data_de/format_parquet\\grp_242.0\n",
      "Deleted folder: D:/MAD_dbs/raw_data_de/format_parquet\\grp_243.0\n",
      "Deleted folder: D:/MAD_dbs/raw_data_de/format_parquet\\grp_244.0\n",
      "Deleted folder: D:/MAD_dbs/raw_data_de/format_parquet\\grp_245.0\n",
      "Deleted folder: D:/MAD_dbs/raw_data_de/format_parquet\\grp_246.0\n",
      "Deleted folder: D:/MAD_dbs/raw_data_de/format_parquet\\grp_247.0\n",
      "Deleted folder: D:/MAD_dbs/raw_data_de/format_parquet\\grp_248.0\n",
      "Deleted folder: D:/MAD_dbs/raw_data_de/format_parquet\\grp_249.0\n",
      "Deleted folder: D:/MAD_dbs/raw_data_de/format_parquet\\grp_250.0\n",
      "Deleted folder: D:/MAD_dbs/raw_data_de/format_parquet\\grp_251.0\n",
      "Deleted folder: D:/MAD_dbs/raw_data_de/format_parquet\\grp_252.0\n",
      "Deleted folder: D:/MAD_dbs/raw_data_de/format_parquet\\grp_253.0\n",
      "Deleted folder: D:/MAD_dbs/raw_data_de/format_parquet\\grp_254.0\n",
      "Deleted folder: D:/MAD_dbs/raw_data_de/format_parquet\\grp_255.0\n",
      "Deleted folder: D:/MAD_dbs/raw_data_de/format_parquet\\grp_256.0\n",
      "Deleted folder: D:/MAD_dbs/raw_data_de/format_parquet\\grp_257.0\n",
      "Deleted folder: D:/MAD_dbs/raw_data_de/format_parquet\\grp_258.0\n",
      "Deleted folder: D:/MAD_dbs/raw_data_de/format_parquet\\grp_259.0\n",
      "Deleted folder: D:/MAD_dbs/raw_data_de/format_parquet\\grp_260.0\n",
      "Deleted folder: D:/MAD_dbs/raw_data_de/format_parquet\\grp_261.0\n",
      "Deleted folder: D:/MAD_dbs/raw_data_de/format_parquet\\grp_262.0\n",
      "Deleted folder: D:/MAD_dbs/raw_data_de/format_parquet\\grp_263.0\n",
      "Deleted folder: D:/MAD_dbs/raw_data_de/format_parquet\\grp_264.0\n",
      "Deleted folder: D:/MAD_dbs/raw_data_de/format_parquet\\grp_265.0\n",
      "Deleted folder: D:/MAD_dbs/raw_data_de/format_parquet\\grp_266.0\n",
      "Deleted folder: D:/MAD_dbs/raw_data_de/format_parquet\\grp_267.0\n",
      "Deleted folder: D:/MAD_dbs/raw_data_de/format_parquet\\grp_268.0\n",
      "Deleted folder: D:/MAD_dbs/raw_data_de/format_parquet\\grp_269.0\n",
      "Deleted folder: D:/MAD_dbs/raw_data_de/format_parquet\\grp_270.0\n",
      "Deleted folder: D:/MAD_dbs/raw_data_de/format_parquet\\grp_271.0\n",
      "Deleted folder: D:/MAD_dbs/raw_data_de/format_parquet\\grp_272.0\n",
      "Deleted folder: D:/MAD_dbs/raw_data_de/format_parquet\\grp_273.0\n",
      "Deleted folder: D:/MAD_dbs/raw_data_de/format_parquet\\grp_274.0\n",
      "Deleted folder: D:/MAD_dbs/raw_data_de/format_parquet\\grp_275.0\n",
      "Deleted folder: D:/MAD_dbs/raw_data_de/format_parquet\\grp_276.0\n",
      "Deleted folder: D:/MAD_dbs/raw_data_de/format_parquet\\grp_277.0\n",
      "Deleted folder: D:/MAD_dbs/raw_data_de/format_parquet\\grp_278.0\n",
      "Deleted folder: D:/MAD_dbs/raw_data_de/format_parquet\\grp_279.0\n",
      "Deleted folder: D:/MAD_dbs/raw_data_de/format_parquet\\grp_280.0\n",
      "Deleted folder: D:/MAD_dbs/raw_data_de/format_parquet\\grp_281.0\n",
      "Deleted folder: D:/MAD_dbs/raw_data_de/format_parquet\\grp_282.0\n",
      "Deleted folder: D:/MAD_dbs/raw_data_de/format_parquet\\grp_283.0\n",
      "Deleted folder: D:/MAD_dbs/raw_data_de/format_parquet\\grp_284.0\n",
      "Deleted folder: D:/MAD_dbs/raw_data_de/format_parquet\\grp_285.0\n",
      "Deleted folder: D:/MAD_dbs/raw_data_de/format_parquet\\grp_286.0\n",
      "Deleted folder: D:/MAD_dbs/raw_data_de/format_parquet\\grp_287.0\n",
      "Deleted folder: D:/MAD_dbs/raw_data_de/format_parquet\\grp_288.0\n",
      "Deleted folder: D:/MAD_dbs/raw_data_de/format_parquet\\grp_289.0\n",
      "Deleted folder: D:/MAD_dbs/raw_data_de/format_parquet\\grp_290.0\n",
      "Deleted folder: D:/MAD_dbs/raw_data_de/format_parquet\\grp_291.0\n",
      "Deleted folder: D:/MAD_dbs/raw_data_de/format_parquet\\grp_292.0\n",
      "Deleted folder: D:/MAD_dbs/raw_data_de/format_parquet\\grp_293.0\n",
      "Deleted folder: D:/MAD_dbs/raw_data_de/format_parquet\\grp_294.0\n",
      "Deleted folder: D:/MAD_dbs/raw_data_de/format_parquet\\grp_295.0\n",
      "Deleted folder: D:/MAD_dbs/raw_data_de/format_parquet\\grp_296.0\n",
      "Deleted folder: D:/MAD_dbs/raw_data_de/format_parquet\\grp_297.0\n",
      "Deleted folder: D:/MAD_dbs/raw_data_de/format_parquet\\grp_298.0\n",
      "Deleted folder: D:/MAD_dbs/raw_data_de/format_parquet\\grp_299.0\n",
      "One or both of the folders do not exist: D:/MAD_dbs/raw_data_de/format_parquet\\grp_300.0, D:/MAD_dbs/raw_data_de/format_parquet\\grp_300\n"
     ]
    }
   ],
   "source": [
    "import os\n",
    "import shutil\n",
    "\n",
    "base_dir = 'D:/MAD_dbs/raw_data_de/format_parquet'  # Change this to the path of your base folder\n",
    "\n",
    "for x in range(301):  # 0 to 300 inclusive\n",
    "    source_folder = os.path.join(base_dir, f'grp_{x}.0')\n",
    "    target_folder = os.path.join(base_dir, f'grp_{x}')\n",
    "    \n",
    "    if os.path.exists(source_folder) and os.path.exists(target_folder):\n",
    "        # Move each file in the source folder to the target folder\n",
    "        for filename in os.listdir(source_folder):\n",
    "            source_file = os.path.join(source_folder, filename)\n",
    "            target_file = os.path.join(target_folder, filename)\n",
    "            \n",
    "            # If a file with the same name exists, decide how to handle. Here we overwrite it.\n",
    "            if os.path.exists(target_file):\n",
    "                print(f\"Overwriting: {target_file}\")\n",
    "                os.remove(target_file)\n",
    "            \n",
    "            shutil.move(source_file, target_folder)\n",
    "        \n",
    "        # Delete the source folder after moving all files\n",
    "        shutil.rmtree(source_folder)\n",
    "        print(f\"Deleted folder: {source_folder}\")\n",
    "    else:\n",
    "        print(f\"One or both of the folders do not exist: {source_folder}, {target_folder}\")"
   ],
   "metadata": {
    "collapsed": false,
    "ExecuteTime": {
     "end_time": "2024-03-24T17:28:08.190239600Z",
     "start_time": "2024-03-24T17:28:05.265240300Z"
    }
   },
   "id": "e987ff2d44ebc6e7"
  },
  {
   "cell_type": "code",
   "execution_count": 3,
   "outputs": [
    {
     "name": "stderr",
     "output_type": "stream",
     "text": [
      "Going through files: 100%|██████████| 22/22 [00:53<00:00,  2.44s/it]\n"
     ]
    }
   ],
   "source": [
    "year, m, d = 2019, '09', '19'\n",
    "files2check = [f'D:/MAD_dbs/raw_data_de/format_parquet/grp_{grp}/{year}_{m}_{d}_1.parquet' for grp in range(139, 150)] +\\\n",
    "    [f'D:/MAD_dbs/raw_data_de/format_parquet/grp_{grp}/{year}_{m}_{d}_2.parquet' for grp in range(139, 150)]\n",
    "prob_files = []\n",
    "for filename in tqdm(files2check, desc='Going through files'):\n",
    "    try:\n",
    "        df = pd.read_parquet(filename, engine='fastparquet')\n",
    "    except:\n",
    "        prob_files.append(filename)"
   ],
   "metadata": {
    "collapsed": false,
    "ExecuteTime": {
     "end_time": "2024-04-15T09:18:42.606304600Z",
     "start_time": "2024-04-15T09:17:48.745341400Z"
    }
   },
   "id": "c8195e3d32cdd717"
  },
  {
   "cell_type": "code",
   "execution_count": 4,
   "outputs": [
    {
     "data": {
      "text/plain": "['D:/MAD_dbs/raw_data_de/format_parquet/grp_139/2019_09_19_2.parquet']"
     },
     "execution_count": 4,
     "metadata": {},
     "output_type": "execute_result"
    }
   ],
   "source": [
    "prob_files"
   ],
   "metadata": {
    "collapsed": false,
    "ExecuteTime": {
     "end_time": "2024-04-15T09:18:42.700053600Z",
     "start_time": "2024-04-15T09:18:42.606304600Z"
    }
   },
   "id": "4379c99120cd588c"
  },
  {
   "cell_type": "code",
   "execution_count": null,
   "outputs": [],
   "source": [],
   "metadata": {
    "collapsed": false
   },
   "id": "acc102e4d0ed72ab"
  }
 ],
 "metadata": {
  "kernelspec": {
   "display_name": "Python 3",
   "language": "python",
   "name": "python3"
  },
  "language_info": {
   "codemirror_mode": {
    "name": "ipython",
    "version": 2
   },
   "file_extension": ".py",
   "mimetype": "text/x-python",
   "name": "python",
   "nbconvert_exporter": "python",
   "pygments_lexer": "ipython2",
   "version": "2.7.6"
  }
 },
 "nbformat": 4,
 "nbformat_minor": 5
}
