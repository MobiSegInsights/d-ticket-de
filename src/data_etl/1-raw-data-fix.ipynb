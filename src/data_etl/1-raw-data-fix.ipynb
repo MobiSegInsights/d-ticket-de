{
 "cells": [
  {
   "cell_type": "markdown",
   "source": [
    "# Check problematic raw data files"
   ],
   "metadata": {
    "collapsed": false
   },
   "id": "539291452e996bca"
  },
  {
   "cell_type": "code",
   "execution_count": 1,
   "outputs": [
    {
     "name": "stdout",
     "output_type": "stream",
     "text": [
      "D:\\nine-euro-ticket-de\n"
     ]
    }
   ],
   "source": [
    "%load_ext autoreload\n",
    "%autoreload 2\n",
    "%cd D:\\nine-euro-ticket-de"
   ],
   "metadata": {
    "collapsed": false,
    "ExecuteTime": {
     "end_time": "2024-10-22T11:55:16.044725400Z",
     "start_time": "2024-10-22T11:55:15.918403900Z"
    }
   },
   "id": "initial_id"
  },
  {
   "cell_type": "code",
   "execution_count": 5,
   "outputs": [],
   "source": [
    "# Load libs\n",
    "import pandas as pd\n",
    "import os\n",
    "import shutil\n",
    "from tqdm import tqdm"
   ],
   "metadata": {
    "collapsed": false,
    "ExecuteTime": {
     "end_time": "2024-10-22T11:58:59.563661800Z",
     "start_time": "2024-10-22T11:58:59.474556600Z"
    }
   },
   "id": "702a98c123fc4aff"
  },
  {
   "cell_type": "code",
   "execution_count": 4,
   "outputs": [
    {
     "name": "stderr",
     "output_type": "stream",
     "text": [
      "C:\\Users\\yuanlia\\AppData\\Local\\Temp\\ipykernel_17604\\2235260106.py:3: DtypeWarning: Columns (0,3,4) have mixed types. Specify dtype option on import or set low_memory=False.\n",
      "  df = pd.read_csv(file_path, sep='\\t', compression='gzip', usecols=selectedcols)\n"
     ]
    }
   ],
   "source": [
    "file_path = 'E:/raw_data_de/raw_data_de_2019/08/18/locations-13-part0001.csv.gz'\n",
    "selectedcols = ['timestamp', 'device_aid', 'latitude', 'longitude', 'location_method']\n",
    "df = pd.read_csv(file_path, sep='\\t', compression='gzip', usecols=selectedcols)"
   ],
   "metadata": {
    "collapsed": false,
    "ExecuteTime": {
     "end_time": "2024-03-12T20:08:14.920292300Z",
     "start_time": "2024-03-12T20:08:02.166269900Z"
    }
   },
   "id": "e863837b398ef663"
  },
  {
   "cell_type": "code",
   "execution_count": 8,
   "outputs": [
    {
     "name": "stdout",
     "output_type": "stream",
     "text": [
      "timestamp 5555870\n",
      "timestamp after 5523102\n",
      "longitude 5523102\n",
      "longitude after 5523102\n",
      "location_method 5523102\n",
      "location_method after 5523102\n"
     ]
    }
   ],
   "source": [
    "for column in (df.columns[0], df.columns[3], df.columns[4]):\n",
    "    # Determine the most common type in the column\n",
    "    most_common_type = df[column].apply(type).mode()[0]\n",
    "    \n",
    "    # Filter out rows that don't match the most common type\n",
    "    print(column, len(df))\n",
    "    df = df[df[column].apply(lambda x: isinstance(x, most_common_type))]\n",
    "    print(column, 'after', len(df))"
   ],
   "metadata": {
    "collapsed": false,
    "ExecuteTime": {
     "end_time": "2024-03-12T20:13:10.303921900Z",
     "start_time": "2024-03-12T20:13:05.557217300Z"
    }
   },
   "id": "9cc47181776e76a0"
  },
  {
   "cell_type": "code",
   "execution_count": 9,
   "outputs": [],
   "source": [
    "df.to_csv(file_path, sep='\\t', compression='gzip', index=False)"
   ],
   "metadata": {
    "collapsed": false,
    "ExecuteTime": {
     "end_time": "2024-03-12T20:15:34.381804700Z",
     "start_time": "2024-03-12T20:15:00.444017800Z"
    }
   },
   "id": "a02712e6eb487001"
  },
  {
   "cell_type": "markdown",
   "source": [
    "## Merge group folders"
   ],
   "metadata": {
    "collapsed": false
   },
   "id": "5b9ee6fdc9412c4b"
  },
  {
   "cell_type": "code",
   "execution_count": 1,
   "outputs": [
    {
     "name": "stdout",
     "output_type": "stream",
     "text": [
      "Deleted folder: D:/MAD_dbs/raw_data_de/format_parquet\\grp_0.0\n",
      "Deleted folder: D:/MAD_dbs/raw_data_de/format_parquet\\grp_1.0\n",
      "Deleted folder: D:/MAD_dbs/raw_data_de/format_parquet\\grp_2.0\n",
      "Deleted folder: D:/MAD_dbs/raw_data_de/format_parquet\\grp_3.0\n",
      "Deleted folder: D:/MAD_dbs/raw_data_de/format_parquet\\grp_4.0\n",
      "Deleted folder: D:/MAD_dbs/raw_data_de/format_parquet\\grp_5.0\n",
      "Deleted folder: D:/MAD_dbs/raw_data_de/format_parquet\\grp_6.0\n",
      "Deleted folder: D:/MAD_dbs/raw_data_de/format_parquet\\grp_7.0\n",
      "Deleted folder: D:/MAD_dbs/raw_data_de/format_parquet\\grp_8.0\n",
      "Deleted folder: D:/MAD_dbs/raw_data_de/format_parquet\\grp_9.0\n",
      "Deleted folder: D:/MAD_dbs/raw_data_de/format_parquet\\grp_10.0\n",
      "Deleted folder: D:/MAD_dbs/raw_data_de/format_parquet\\grp_11.0\n",
      "Deleted folder: D:/MAD_dbs/raw_data_de/format_parquet\\grp_12.0\n",
      "Deleted folder: D:/MAD_dbs/raw_data_de/format_parquet\\grp_13.0\n",
      "Deleted folder: D:/MAD_dbs/raw_data_de/format_parquet\\grp_14.0\n",
      "Deleted folder: D:/MAD_dbs/raw_data_de/format_parquet\\grp_15.0\n",
      "Deleted folder: D:/MAD_dbs/raw_data_de/format_parquet\\grp_16.0\n",
      "Deleted folder: D:/MAD_dbs/raw_data_de/format_parquet\\grp_17.0\n",
      "Deleted folder: D:/MAD_dbs/raw_data_de/format_parquet\\grp_18.0\n",
      "Deleted folder: D:/MAD_dbs/raw_data_de/format_parquet\\grp_19.0\n",
      "Deleted folder: D:/MAD_dbs/raw_data_de/format_parquet\\grp_20.0\n",
      "Deleted folder: D:/MAD_dbs/raw_data_de/format_parquet\\grp_21.0\n",
      "Deleted folder: D:/MAD_dbs/raw_data_de/format_parquet\\grp_22.0\n",
      "Deleted folder: D:/MAD_dbs/raw_data_de/format_parquet\\grp_23.0\n",
      "Deleted folder: D:/MAD_dbs/raw_data_de/format_parquet\\grp_24.0\n",
      "Deleted folder: D:/MAD_dbs/raw_data_de/format_parquet\\grp_25.0\n",
      "Deleted folder: D:/MAD_dbs/raw_data_de/format_parquet\\grp_26.0\n",
      "Deleted folder: D:/MAD_dbs/raw_data_de/format_parquet\\grp_27.0\n",
      "Deleted folder: D:/MAD_dbs/raw_data_de/format_parquet\\grp_28.0\n",
      "Deleted folder: D:/MAD_dbs/raw_data_de/format_parquet\\grp_29.0\n",
      "Deleted folder: D:/MAD_dbs/raw_data_de/format_parquet\\grp_30.0\n",
      "Deleted folder: D:/MAD_dbs/raw_data_de/format_parquet\\grp_31.0\n",
      "Deleted folder: D:/MAD_dbs/raw_data_de/format_parquet\\grp_32.0\n",
      "Deleted folder: D:/MAD_dbs/raw_data_de/format_parquet\\grp_33.0\n",
      "Deleted folder: D:/MAD_dbs/raw_data_de/format_parquet\\grp_34.0\n",
      "Deleted folder: D:/MAD_dbs/raw_data_de/format_parquet\\grp_35.0\n",
      "Deleted folder: D:/MAD_dbs/raw_data_de/format_parquet\\grp_36.0\n",
      "Deleted folder: D:/MAD_dbs/raw_data_de/format_parquet\\grp_37.0\n",
      "Deleted folder: D:/MAD_dbs/raw_data_de/format_parquet\\grp_38.0\n",
      "Deleted folder: D:/MAD_dbs/raw_data_de/format_parquet\\grp_39.0\n",
      "Deleted folder: D:/MAD_dbs/raw_data_de/format_parquet\\grp_40.0\n",
      "Deleted folder: D:/MAD_dbs/raw_data_de/format_parquet\\grp_41.0\n",
      "Deleted folder: D:/MAD_dbs/raw_data_de/format_parquet\\grp_42.0\n",
      "Deleted folder: D:/MAD_dbs/raw_data_de/format_parquet\\grp_43.0\n",
      "Deleted folder: D:/MAD_dbs/raw_data_de/format_parquet\\grp_44.0\n",
      "Deleted folder: D:/MAD_dbs/raw_data_de/format_parquet\\grp_45.0\n",
      "Deleted folder: D:/MAD_dbs/raw_data_de/format_parquet\\grp_46.0\n",
      "Deleted folder: D:/MAD_dbs/raw_data_de/format_parquet\\grp_47.0\n",
      "Deleted folder: D:/MAD_dbs/raw_data_de/format_parquet\\grp_48.0\n",
      "Deleted folder: D:/MAD_dbs/raw_data_de/format_parquet\\grp_49.0\n",
      "Deleted folder: D:/MAD_dbs/raw_data_de/format_parquet\\grp_50.0\n",
      "Deleted folder: D:/MAD_dbs/raw_data_de/format_parquet\\grp_51.0\n",
      "Deleted folder: D:/MAD_dbs/raw_data_de/format_parquet\\grp_52.0\n",
      "Deleted folder: D:/MAD_dbs/raw_data_de/format_parquet\\grp_53.0\n",
      "Deleted folder: D:/MAD_dbs/raw_data_de/format_parquet\\grp_54.0\n",
      "Deleted folder: D:/MAD_dbs/raw_data_de/format_parquet\\grp_55.0\n",
      "Deleted folder: D:/MAD_dbs/raw_data_de/format_parquet\\grp_56.0\n",
      "Deleted folder: D:/MAD_dbs/raw_data_de/format_parquet\\grp_57.0\n",
      "Deleted folder: D:/MAD_dbs/raw_data_de/format_parquet\\grp_58.0\n",
      "Deleted folder: D:/MAD_dbs/raw_data_de/format_parquet\\grp_59.0\n",
      "Deleted folder: D:/MAD_dbs/raw_data_de/format_parquet\\grp_60.0\n",
      "Deleted folder: D:/MAD_dbs/raw_data_de/format_parquet\\grp_61.0\n",
      "Deleted folder: D:/MAD_dbs/raw_data_de/format_parquet\\grp_62.0\n",
      "Deleted folder: D:/MAD_dbs/raw_data_de/format_parquet\\grp_63.0\n",
      "Deleted folder: D:/MAD_dbs/raw_data_de/format_parquet\\grp_64.0\n",
      "Deleted folder: D:/MAD_dbs/raw_data_de/format_parquet\\grp_65.0\n",
      "Deleted folder: D:/MAD_dbs/raw_data_de/format_parquet\\grp_66.0\n",
      "Deleted folder: D:/MAD_dbs/raw_data_de/format_parquet\\grp_67.0\n",
      "Deleted folder: D:/MAD_dbs/raw_data_de/format_parquet\\grp_68.0\n",
      "Deleted folder: D:/MAD_dbs/raw_data_de/format_parquet\\grp_69.0\n",
      "Deleted folder: D:/MAD_dbs/raw_data_de/format_parquet\\grp_70.0\n",
      "Deleted folder: D:/MAD_dbs/raw_data_de/format_parquet\\grp_71.0\n",
      "Deleted folder: D:/MAD_dbs/raw_data_de/format_parquet\\grp_72.0\n",
      "Deleted folder: D:/MAD_dbs/raw_data_de/format_parquet\\grp_73.0\n",
      "Deleted folder: D:/MAD_dbs/raw_data_de/format_parquet\\grp_74.0\n",
      "Deleted folder: D:/MAD_dbs/raw_data_de/format_parquet\\grp_75.0\n",
      "Deleted folder: D:/MAD_dbs/raw_data_de/format_parquet\\grp_76.0\n",
      "Deleted folder: D:/MAD_dbs/raw_data_de/format_parquet\\grp_77.0\n",
      "Deleted folder: D:/MAD_dbs/raw_data_de/format_parquet\\grp_78.0\n",
      "Deleted folder: D:/MAD_dbs/raw_data_de/format_parquet\\grp_79.0\n",
      "Deleted folder: D:/MAD_dbs/raw_data_de/format_parquet\\grp_80.0\n",
      "Deleted folder: D:/MAD_dbs/raw_data_de/format_parquet\\grp_81.0\n",
      "Deleted folder: D:/MAD_dbs/raw_data_de/format_parquet\\grp_82.0\n",
      "Deleted folder: D:/MAD_dbs/raw_data_de/format_parquet\\grp_83.0\n",
      "Deleted folder: D:/MAD_dbs/raw_data_de/format_parquet\\grp_84.0\n",
      "Deleted folder: D:/MAD_dbs/raw_data_de/format_parquet\\grp_85.0\n",
      "Deleted folder: D:/MAD_dbs/raw_data_de/format_parquet\\grp_86.0\n",
      "Deleted folder: D:/MAD_dbs/raw_data_de/format_parquet\\grp_87.0\n",
      "Deleted folder: D:/MAD_dbs/raw_data_de/format_parquet\\grp_88.0\n",
      "Deleted folder: D:/MAD_dbs/raw_data_de/format_parquet\\grp_89.0\n",
      "Deleted folder: D:/MAD_dbs/raw_data_de/format_parquet\\grp_90.0\n",
      "Deleted folder: D:/MAD_dbs/raw_data_de/format_parquet\\grp_91.0\n",
      "Deleted folder: D:/MAD_dbs/raw_data_de/format_parquet\\grp_92.0\n",
      "Deleted folder: D:/MAD_dbs/raw_data_de/format_parquet\\grp_93.0\n",
      "Deleted folder: D:/MAD_dbs/raw_data_de/format_parquet\\grp_94.0\n",
      "Deleted folder: D:/MAD_dbs/raw_data_de/format_parquet\\grp_95.0\n",
      "Deleted folder: D:/MAD_dbs/raw_data_de/format_parquet\\grp_96.0\n",
      "Deleted folder: D:/MAD_dbs/raw_data_de/format_parquet\\grp_97.0\n",
      "Deleted folder: D:/MAD_dbs/raw_data_de/format_parquet\\grp_98.0\n",
      "Deleted folder: D:/MAD_dbs/raw_data_de/format_parquet\\grp_99.0\n",
      "Deleted folder: D:/MAD_dbs/raw_data_de/format_parquet\\grp_100.0\n",
      "Deleted folder: D:/MAD_dbs/raw_data_de/format_parquet\\grp_101.0\n",
      "Deleted folder: D:/MAD_dbs/raw_data_de/format_parquet\\grp_102.0\n",
      "Deleted folder: D:/MAD_dbs/raw_data_de/format_parquet\\grp_103.0\n",
      "Deleted folder: D:/MAD_dbs/raw_data_de/format_parquet\\grp_104.0\n",
      "Deleted folder: D:/MAD_dbs/raw_data_de/format_parquet\\grp_105.0\n",
      "Deleted folder: D:/MAD_dbs/raw_data_de/format_parquet\\grp_106.0\n",
      "Deleted folder: D:/MAD_dbs/raw_data_de/format_parquet\\grp_107.0\n",
      "Deleted folder: D:/MAD_dbs/raw_data_de/format_parquet\\grp_108.0\n",
      "Deleted folder: D:/MAD_dbs/raw_data_de/format_parquet\\grp_109.0\n",
      "Deleted folder: D:/MAD_dbs/raw_data_de/format_parquet\\grp_110.0\n",
      "Deleted folder: D:/MAD_dbs/raw_data_de/format_parquet\\grp_111.0\n",
      "Deleted folder: D:/MAD_dbs/raw_data_de/format_parquet\\grp_112.0\n",
      "Deleted folder: D:/MAD_dbs/raw_data_de/format_parquet\\grp_113.0\n",
      "Deleted folder: D:/MAD_dbs/raw_data_de/format_parquet\\grp_114.0\n",
      "Deleted folder: D:/MAD_dbs/raw_data_de/format_parquet\\grp_115.0\n",
      "Deleted folder: D:/MAD_dbs/raw_data_de/format_parquet\\grp_116.0\n",
      "Deleted folder: D:/MAD_dbs/raw_data_de/format_parquet\\grp_117.0\n",
      "Deleted folder: D:/MAD_dbs/raw_data_de/format_parquet\\grp_118.0\n",
      "Deleted folder: D:/MAD_dbs/raw_data_de/format_parquet\\grp_119.0\n",
      "Deleted folder: D:/MAD_dbs/raw_data_de/format_parquet\\grp_120.0\n",
      "Deleted folder: D:/MAD_dbs/raw_data_de/format_parquet\\grp_121.0\n",
      "Deleted folder: D:/MAD_dbs/raw_data_de/format_parquet\\grp_122.0\n",
      "Deleted folder: D:/MAD_dbs/raw_data_de/format_parquet\\grp_123.0\n",
      "Deleted folder: D:/MAD_dbs/raw_data_de/format_parquet\\grp_124.0\n",
      "Deleted folder: D:/MAD_dbs/raw_data_de/format_parquet\\grp_125.0\n",
      "Deleted folder: D:/MAD_dbs/raw_data_de/format_parquet\\grp_126.0\n",
      "Deleted folder: D:/MAD_dbs/raw_data_de/format_parquet\\grp_127.0\n",
      "Deleted folder: D:/MAD_dbs/raw_data_de/format_parquet\\grp_128.0\n",
      "Deleted folder: D:/MAD_dbs/raw_data_de/format_parquet\\grp_129.0\n",
      "Deleted folder: D:/MAD_dbs/raw_data_de/format_parquet\\grp_130.0\n",
      "Deleted folder: D:/MAD_dbs/raw_data_de/format_parquet\\grp_131.0\n",
      "Deleted folder: D:/MAD_dbs/raw_data_de/format_parquet\\grp_132.0\n",
      "Deleted folder: D:/MAD_dbs/raw_data_de/format_parquet\\grp_133.0\n",
      "Deleted folder: D:/MAD_dbs/raw_data_de/format_parquet\\grp_134.0\n",
      "Deleted folder: D:/MAD_dbs/raw_data_de/format_parquet\\grp_135.0\n",
      "Deleted folder: D:/MAD_dbs/raw_data_de/format_parquet\\grp_136.0\n",
      "Deleted folder: D:/MAD_dbs/raw_data_de/format_parquet\\grp_137.0\n",
      "Deleted folder: D:/MAD_dbs/raw_data_de/format_parquet\\grp_138.0\n",
      "Deleted folder: D:/MAD_dbs/raw_data_de/format_parquet\\grp_139.0\n",
      "Deleted folder: D:/MAD_dbs/raw_data_de/format_parquet\\grp_140.0\n",
      "Deleted folder: D:/MAD_dbs/raw_data_de/format_parquet\\grp_141.0\n",
      "Deleted folder: D:/MAD_dbs/raw_data_de/format_parquet\\grp_142.0\n",
      "Deleted folder: D:/MAD_dbs/raw_data_de/format_parquet\\grp_143.0\n",
      "Deleted folder: D:/MAD_dbs/raw_data_de/format_parquet\\grp_144.0\n",
      "Deleted folder: D:/MAD_dbs/raw_data_de/format_parquet\\grp_145.0\n",
      "Deleted folder: D:/MAD_dbs/raw_data_de/format_parquet\\grp_146.0\n",
      "Deleted folder: D:/MAD_dbs/raw_data_de/format_parquet\\grp_147.0\n",
      "Deleted folder: D:/MAD_dbs/raw_data_de/format_parquet\\grp_148.0\n",
      "Deleted folder: D:/MAD_dbs/raw_data_de/format_parquet\\grp_149.0\n",
      "Deleted folder: D:/MAD_dbs/raw_data_de/format_parquet\\grp_150.0\n",
      "Deleted folder: D:/MAD_dbs/raw_data_de/format_parquet\\grp_151.0\n",
      "Deleted folder: D:/MAD_dbs/raw_data_de/format_parquet\\grp_152.0\n",
      "Deleted folder: D:/MAD_dbs/raw_data_de/format_parquet\\grp_153.0\n",
      "Deleted folder: D:/MAD_dbs/raw_data_de/format_parquet\\grp_154.0\n",
      "Deleted folder: D:/MAD_dbs/raw_data_de/format_parquet\\grp_155.0\n",
      "Deleted folder: D:/MAD_dbs/raw_data_de/format_parquet\\grp_156.0\n",
      "Deleted folder: D:/MAD_dbs/raw_data_de/format_parquet\\grp_157.0\n",
      "Deleted folder: D:/MAD_dbs/raw_data_de/format_parquet\\grp_158.0\n",
      "Deleted folder: D:/MAD_dbs/raw_data_de/format_parquet\\grp_159.0\n",
      "Deleted folder: D:/MAD_dbs/raw_data_de/format_parquet\\grp_160.0\n",
      "Deleted folder: D:/MAD_dbs/raw_data_de/format_parquet\\grp_161.0\n",
      "Deleted folder: D:/MAD_dbs/raw_data_de/format_parquet\\grp_162.0\n",
      "Deleted folder: D:/MAD_dbs/raw_data_de/format_parquet\\grp_163.0\n",
      "Deleted folder: D:/MAD_dbs/raw_data_de/format_parquet\\grp_164.0\n",
      "Deleted folder: D:/MAD_dbs/raw_data_de/format_parquet\\grp_165.0\n",
      "Deleted folder: D:/MAD_dbs/raw_data_de/format_parquet\\grp_166.0\n",
      "Deleted folder: D:/MAD_dbs/raw_data_de/format_parquet\\grp_167.0\n",
      "Deleted folder: D:/MAD_dbs/raw_data_de/format_parquet\\grp_168.0\n",
      "Deleted folder: D:/MAD_dbs/raw_data_de/format_parquet\\grp_169.0\n",
      "Deleted folder: D:/MAD_dbs/raw_data_de/format_parquet\\grp_170.0\n",
      "Deleted folder: D:/MAD_dbs/raw_data_de/format_parquet\\grp_171.0\n",
      "Deleted folder: D:/MAD_dbs/raw_data_de/format_parquet\\grp_172.0\n",
      "Deleted folder: D:/MAD_dbs/raw_data_de/format_parquet\\grp_173.0\n",
      "Deleted folder: D:/MAD_dbs/raw_data_de/format_parquet\\grp_174.0\n",
      "Deleted folder: D:/MAD_dbs/raw_data_de/format_parquet\\grp_175.0\n",
      "Deleted folder: D:/MAD_dbs/raw_data_de/format_parquet\\grp_176.0\n",
      "Deleted folder: D:/MAD_dbs/raw_data_de/format_parquet\\grp_177.0\n",
      "Deleted folder: D:/MAD_dbs/raw_data_de/format_parquet\\grp_178.0\n",
      "Deleted folder: D:/MAD_dbs/raw_data_de/format_parquet\\grp_179.0\n",
      "Deleted folder: D:/MAD_dbs/raw_data_de/format_parquet\\grp_180.0\n",
      "Deleted folder: D:/MAD_dbs/raw_data_de/format_parquet\\grp_181.0\n",
      "Deleted folder: D:/MAD_dbs/raw_data_de/format_parquet\\grp_182.0\n",
      "Deleted folder: D:/MAD_dbs/raw_data_de/format_parquet\\grp_183.0\n",
      "Deleted folder: D:/MAD_dbs/raw_data_de/format_parquet\\grp_184.0\n",
      "Deleted folder: D:/MAD_dbs/raw_data_de/format_parquet\\grp_185.0\n",
      "Deleted folder: D:/MAD_dbs/raw_data_de/format_parquet\\grp_186.0\n",
      "Deleted folder: D:/MAD_dbs/raw_data_de/format_parquet\\grp_187.0\n",
      "Deleted folder: D:/MAD_dbs/raw_data_de/format_parquet\\grp_188.0\n",
      "Deleted folder: D:/MAD_dbs/raw_data_de/format_parquet\\grp_189.0\n",
      "Deleted folder: D:/MAD_dbs/raw_data_de/format_parquet\\grp_190.0\n",
      "Deleted folder: D:/MAD_dbs/raw_data_de/format_parquet\\grp_191.0\n",
      "Deleted folder: D:/MAD_dbs/raw_data_de/format_parquet\\grp_192.0\n",
      "Deleted folder: D:/MAD_dbs/raw_data_de/format_parquet\\grp_193.0\n",
      "Deleted folder: D:/MAD_dbs/raw_data_de/format_parquet\\grp_194.0\n",
      "Deleted folder: D:/MAD_dbs/raw_data_de/format_parquet\\grp_195.0\n",
      "Deleted folder: D:/MAD_dbs/raw_data_de/format_parquet\\grp_196.0\n",
      "Deleted folder: D:/MAD_dbs/raw_data_de/format_parquet\\grp_197.0\n",
      "Deleted folder: D:/MAD_dbs/raw_data_de/format_parquet\\grp_198.0\n",
      "Deleted folder: D:/MAD_dbs/raw_data_de/format_parquet\\grp_199.0\n",
      "Deleted folder: D:/MAD_dbs/raw_data_de/format_parquet\\grp_200.0\n",
      "Deleted folder: D:/MAD_dbs/raw_data_de/format_parquet\\grp_201.0\n",
      "Deleted folder: D:/MAD_dbs/raw_data_de/format_parquet\\grp_202.0\n",
      "Deleted folder: D:/MAD_dbs/raw_data_de/format_parquet\\grp_203.0\n",
      "Deleted folder: D:/MAD_dbs/raw_data_de/format_parquet\\grp_204.0\n",
      "Deleted folder: D:/MAD_dbs/raw_data_de/format_parquet\\grp_205.0\n",
      "Deleted folder: D:/MAD_dbs/raw_data_de/format_parquet\\grp_206.0\n",
      "Deleted folder: D:/MAD_dbs/raw_data_de/format_parquet\\grp_207.0\n",
      "Deleted folder: D:/MAD_dbs/raw_data_de/format_parquet\\grp_208.0\n",
      "Deleted folder: D:/MAD_dbs/raw_data_de/format_parquet\\grp_209.0\n",
      "Deleted folder: D:/MAD_dbs/raw_data_de/format_parquet\\grp_210.0\n",
      "Deleted folder: D:/MAD_dbs/raw_data_de/format_parquet\\grp_211.0\n",
      "Deleted folder: D:/MAD_dbs/raw_data_de/format_parquet\\grp_212.0\n",
      "Deleted folder: D:/MAD_dbs/raw_data_de/format_parquet\\grp_213.0\n",
      "Deleted folder: D:/MAD_dbs/raw_data_de/format_parquet\\grp_214.0\n",
      "Deleted folder: D:/MAD_dbs/raw_data_de/format_parquet\\grp_215.0\n",
      "Deleted folder: D:/MAD_dbs/raw_data_de/format_parquet\\grp_216.0\n",
      "Deleted folder: D:/MAD_dbs/raw_data_de/format_parquet\\grp_217.0\n",
      "Deleted folder: D:/MAD_dbs/raw_data_de/format_parquet\\grp_218.0\n",
      "Deleted folder: D:/MAD_dbs/raw_data_de/format_parquet\\grp_219.0\n",
      "Deleted folder: D:/MAD_dbs/raw_data_de/format_parquet\\grp_220.0\n",
      "Deleted folder: D:/MAD_dbs/raw_data_de/format_parquet\\grp_221.0\n",
      "Deleted folder: D:/MAD_dbs/raw_data_de/format_parquet\\grp_222.0\n",
      "Deleted folder: D:/MAD_dbs/raw_data_de/format_parquet\\grp_223.0\n",
      "Deleted folder: D:/MAD_dbs/raw_data_de/format_parquet\\grp_224.0\n",
      "Deleted folder: D:/MAD_dbs/raw_data_de/format_parquet\\grp_225.0\n",
      "Deleted folder: D:/MAD_dbs/raw_data_de/format_parquet\\grp_226.0\n",
      "Deleted folder: D:/MAD_dbs/raw_data_de/format_parquet\\grp_227.0\n",
      "Deleted folder: D:/MAD_dbs/raw_data_de/format_parquet\\grp_228.0\n",
      "Deleted folder: D:/MAD_dbs/raw_data_de/format_parquet\\grp_229.0\n",
      "Deleted folder: D:/MAD_dbs/raw_data_de/format_parquet\\grp_230.0\n",
      "Deleted folder: D:/MAD_dbs/raw_data_de/format_parquet\\grp_231.0\n",
      "Deleted folder: D:/MAD_dbs/raw_data_de/format_parquet\\grp_232.0\n",
      "Deleted folder: D:/MAD_dbs/raw_data_de/format_parquet\\grp_233.0\n",
      "Deleted folder: D:/MAD_dbs/raw_data_de/format_parquet\\grp_234.0\n",
      "Deleted folder: D:/MAD_dbs/raw_data_de/format_parquet\\grp_235.0\n",
      "Deleted folder: D:/MAD_dbs/raw_data_de/format_parquet\\grp_236.0\n",
      "Deleted folder: D:/MAD_dbs/raw_data_de/format_parquet\\grp_237.0\n",
      "Deleted folder: D:/MAD_dbs/raw_data_de/format_parquet\\grp_238.0\n",
      "Deleted folder: D:/MAD_dbs/raw_data_de/format_parquet\\grp_239.0\n",
      "Deleted folder: D:/MAD_dbs/raw_data_de/format_parquet\\grp_240.0\n",
      "Deleted folder: D:/MAD_dbs/raw_data_de/format_parquet\\grp_241.0\n",
      "Deleted folder: D:/MAD_dbs/raw_data_de/format_parquet\\grp_242.0\n",
      "Deleted folder: D:/MAD_dbs/raw_data_de/format_parquet\\grp_243.0\n",
      "Deleted folder: D:/MAD_dbs/raw_data_de/format_parquet\\grp_244.0\n",
      "Deleted folder: D:/MAD_dbs/raw_data_de/format_parquet\\grp_245.0\n",
      "Deleted folder: D:/MAD_dbs/raw_data_de/format_parquet\\grp_246.0\n",
      "Deleted folder: D:/MAD_dbs/raw_data_de/format_parquet\\grp_247.0\n",
      "Deleted folder: D:/MAD_dbs/raw_data_de/format_parquet\\grp_248.0\n",
      "Deleted folder: D:/MAD_dbs/raw_data_de/format_parquet\\grp_249.0\n",
      "Deleted folder: D:/MAD_dbs/raw_data_de/format_parquet\\grp_250.0\n",
      "Deleted folder: D:/MAD_dbs/raw_data_de/format_parquet\\grp_251.0\n",
      "Deleted folder: D:/MAD_dbs/raw_data_de/format_parquet\\grp_252.0\n",
      "Deleted folder: D:/MAD_dbs/raw_data_de/format_parquet\\grp_253.0\n",
      "Deleted folder: D:/MAD_dbs/raw_data_de/format_parquet\\grp_254.0\n",
      "Deleted folder: D:/MAD_dbs/raw_data_de/format_parquet\\grp_255.0\n",
      "Deleted folder: D:/MAD_dbs/raw_data_de/format_parquet\\grp_256.0\n",
      "Deleted folder: D:/MAD_dbs/raw_data_de/format_parquet\\grp_257.0\n",
      "Deleted folder: D:/MAD_dbs/raw_data_de/format_parquet\\grp_258.0\n",
      "Deleted folder: D:/MAD_dbs/raw_data_de/format_parquet\\grp_259.0\n",
      "Deleted folder: D:/MAD_dbs/raw_data_de/format_parquet\\grp_260.0\n",
      "Deleted folder: D:/MAD_dbs/raw_data_de/format_parquet\\grp_261.0\n",
      "Deleted folder: D:/MAD_dbs/raw_data_de/format_parquet\\grp_262.0\n",
      "Deleted folder: D:/MAD_dbs/raw_data_de/format_parquet\\grp_263.0\n",
      "Deleted folder: D:/MAD_dbs/raw_data_de/format_parquet\\grp_264.0\n",
      "Deleted folder: D:/MAD_dbs/raw_data_de/format_parquet\\grp_265.0\n",
      "Deleted folder: D:/MAD_dbs/raw_data_de/format_parquet\\grp_266.0\n",
      "Deleted folder: D:/MAD_dbs/raw_data_de/format_parquet\\grp_267.0\n",
      "Deleted folder: D:/MAD_dbs/raw_data_de/format_parquet\\grp_268.0\n",
      "Deleted folder: D:/MAD_dbs/raw_data_de/format_parquet\\grp_269.0\n",
      "Deleted folder: D:/MAD_dbs/raw_data_de/format_parquet\\grp_270.0\n",
      "Deleted folder: D:/MAD_dbs/raw_data_de/format_parquet\\grp_271.0\n",
      "Deleted folder: D:/MAD_dbs/raw_data_de/format_parquet\\grp_272.0\n",
      "Deleted folder: D:/MAD_dbs/raw_data_de/format_parquet\\grp_273.0\n",
      "Deleted folder: D:/MAD_dbs/raw_data_de/format_parquet\\grp_274.0\n",
      "Deleted folder: D:/MAD_dbs/raw_data_de/format_parquet\\grp_275.0\n",
      "Deleted folder: D:/MAD_dbs/raw_data_de/format_parquet\\grp_276.0\n",
      "Deleted folder: D:/MAD_dbs/raw_data_de/format_parquet\\grp_277.0\n",
      "Deleted folder: D:/MAD_dbs/raw_data_de/format_parquet\\grp_278.0\n",
      "Deleted folder: D:/MAD_dbs/raw_data_de/format_parquet\\grp_279.0\n",
      "Deleted folder: D:/MAD_dbs/raw_data_de/format_parquet\\grp_280.0\n",
      "Deleted folder: D:/MAD_dbs/raw_data_de/format_parquet\\grp_281.0\n",
      "Deleted folder: D:/MAD_dbs/raw_data_de/format_parquet\\grp_282.0\n",
      "Deleted folder: D:/MAD_dbs/raw_data_de/format_parquet\\grp_283.0\n",
      "Deleted folder: D:/MAD_dbs/raw_data_de/format_parquet\\grp_284.0\n",
      "Deleted folder: D:/MAD_dbs/raw_data_de/format_parquet\\grp_285.0\n",
      "Deleted folder: D:/MAD_dbs/raw_data_de/format_parquet\\grp_286.0\n",
      "Deleted folder: D:/MAD_dbs/raw_data_de/format_parquet\\grp_287.0\n",
      "Deleted folder: D:/MAD_dbs/raw_data_de/format_parquet\\grp_288.0\n",
      "Deleted folder: D:/MAD_dbs/raw_data_de/format_parquet\\grp_289.0\n",
      "Deleted folder: D:/MAD_dbs/raw_data_de/format_parquet\\grp_290.0\n",
      "Deleted folder: D:/MAD_dbs/raw_data_de/format_parquet\\grp_291.0\n",
      "Deleted folder: D:/MAD_dbs/raw_data_de/format_parquet\\grp_292.0\n",
      "Deleted folder: D:/MAD_dbs/raw_data_de/format_parquet\\grp_293.0\n",
      "Deleted folder: D:/MAD_dbs/raw_data_de/format_parquet\\grp_294.0\n",
      "Deleted folder: D:/MAD_dbs/raw_data_de/format_parquet\\grp_295.0\n",
      "Deleted folder: D:/MAD_dbs/raw_data_de/format_parquet\\grp_296.0\n",
      "Deleted folder: D:/MAD_dbs/raw_data_de/format_parquet\\grp_297.0\n",
      "Deleted folder: D:/MAD_dbs/raw_data_de/format_parquet\\grp_298.0\n",
      "Deleted folder: D:/MAD_dbs/raw_data_de/format_parquet\\grp_299.0\n",
      "One or both of the folders do not exist: D:/MAD_dbs/raw_data_de/format_parquet\\grp_300.0, D:/MAD_dbs/raw_data_de/format_parquet\\grp_300\n"
     ]
    }
   ],
   "source": [
    "import os\n",
    "import shutil\n",
    "\n",
    "base_dir = 'D:/MAD_dbs/raw_data_de/format_parquet'  # Change this to the path of your base folder\n",
    "\n",
    "for x in range(301):  # 0 to 300 inclusive\n",
    "    source_folder = os.path.join(base_dir, f'grp_{x}.0')\n",
    "    target_folder = os.path.join(base_dir, f'grp_{x}')\n",
    "    \n",
    "    if os.path.exists(source_folder) and os.path.exists(target_folder):\n",
    "        # Move each file in the source folder to the target folder\n",
    "        for filename in os.listdir(source_folder):\n",
    "            source_file = os.path.join(source_folder, filename)\n",
    "            target_file = os.path.join(target_folder, filename)\n",
    "            \n",
    "            # If a file with the same name exists, decide how to handle. Here we overwrite it.\n",
    "            if os.path.exists(target_file):\n",
    "                print(f\"Overwriting: {target_file}\")\n",
    "                os.remove(target_file)\n",
    "            \n",
    "            shutil.move(source_file, target_folder)\n",
    "        \n",
    "        # Delete the source folder after moving all files\n",
    "        shutil.rmtree(source_folder)\n",
    "        print(f\"Deleted folder: {source_folder}\")\n",
    "    else:\n",
    "        print(f\"One or both of the folders do not exist: {source_folder}, {target_folder}\")"
   ],
   "metadata": {
    "collapsed": false,
    "ExecuteTime": {
     "end_time": "2024-03-24T17:28:08.190239600Z",
     "start_time": "2024-03-24T17:28:05.265240300Z"
    }
   },
   "id": "e987ff2d44ebc6e7"
  },
  {
   "cell_type": "code",
   "execution_count": 3,
   "outputs": [
    {
     "name": "stderr",
     "output_type": "stream",
     "text": [
      "Going through files: 100%|██████████| 22/22 [00:53<00:00,  2.44s/it]\n"
     ]
    }
   ],
   "source": [
    "year, m, d = 2019, '09', '19'\n",
    "files2check = [f'D:/MAD_dbs/raw_data_de/format_parquet/grp_{grp}/{year}_{m}_{d}_1.parquet' for grp in range(139, 150)] +\\\n",
    "    [f'D:/MAD_dbs/raw_data_de/format_parquet/grp_{grp}/{year}_{m}_{d}_2.parquet' for grp in range(139, 150)]\n",
    "prob_files = []\n",
    "for filename in tqdm(files2check, desc='Going through files'):\n",
    "    try:\n",
    "        df = pd.read_parquet(filename, engine='fastparquet')\n",
    "    except:\n",
    "        prob_files.append(filename)"
   ],
   "metadata": {
    "collapsed": false,
    "ExecuteTime": {
     "end_time": "2024-04-15T09:18:42.606304600Z",
     "start_time": "2024-04-15T09:17:48.745341400Z"
    }
   },
   "id": "c8195e3d32cdd717"
  },
  {
   "cell_type": "code",
   "execution_count": 4,
   "outputs": [
    {
     "data": {
      "text/plain": "['D:/MAD_dbs/raw_data_de/format_parquet/grp_139/2019_09_19_2.parquet']"
     },
     "execution_count": 4,
     "metadata": {},
     "output_type": "execute_result"
    }
   ],
   "source": [
    "prob_files"
   ],
   "metadata": {
    "collapsed": false,
    "ExecuteTime": {
     "end_time": "2024-04-15T09:18:42.700053600Z",
     "start_time": "2024-04-15T09:18:42.606304600Z"
    }
   },
   "id": "4379c99120cd588c"
  },
  {
   "cell_type": "markdown",
   "source": [
    "## Remove low-precision records"
   ],
   "metadata": {
    "collapsed": false
   },
   "id": "bf31f4ccf7d31327"
  },
  {
   "cell_type": "code",
   "execution_count": 30,
   "outputs": [],
   "source": [
    "data_folder = 'D:\\\\MAD_dbs\\\\raw_data_de\\\\format_parquet'\n",
    "target_folder = 'D:\\\\MAD_dbs\\\\raw_data_de\\\\format_parquet_r'\n",
    "paths = [x[0] for x in os.walk(data_folder)]\n",
    "paths = paths[1:]\n",
    "paths2raw = {int(x.split('_')[-1]): x for x in paths}"
   ],
   "metadata": {
    "collapsed": false,
    "ExecuteTime": {
     "end_time": "2024-05-14T11:32:08.127855800Z",
     "start_time": "2024-05-14T11:32:07.786856800Z"
    }
   },
   "id": "2ba9993145e93098"
  },
  {
   "cell_type": "code",
   "execution_count": 35,
   "outputs": [],
   "source": [
    "def num_check(x):\n",
    "    prec = str(x).split('.')[-1]\n",
    "    if len(prec) <= 2:\n",
    "        return 1\n",
    "    else:\n",
    "        p = int(str(x * 100).split('.')[-1])\n",
    "        if p == 0:\n",
    "            return 1\n",
    "        else:\n",
    "            return 0\n",
    "\n",
    "\n",
    "def low_precision_check(x, y):\n",
    "    if (num_check(x) == 1) & (num_check(y) == 1):\n",
    "        return 1\n",
    "    else:\n",
    "        return 0\n",
    "\n",
    "def low_precision_remove(file, batch):\n",
    "    df = pd.read_parquet(os.path.join(paths2raw[batch], file))\n",
    "    L = len(df)\n",
    "    df.loc[:, 'low_precision'] = df.apply(lambda row: low_precision_check(row['latitude'], row['longitude']), axis=1)\n",
    "    df = df.loc[df.low_precision != 1].drop(columns='low_precision')\n",
    "    low_share = len(df) / L\n",
    "    dirs = [x[0] for x in os.walk(target_folder)]\n",
    "    target_dir = os.path.join(target_folder, 'grp_' + str(batch))\n",
    "    if target_dir not in dirs:\n",
    "        os.makedirs(target_dir)\n",
    "    df.to_parquet(target_dir + f'\\\\{file}')\n",
    "    return low_share"
   ],
   "metadata": {
    "collapsed": false,
    "ExecuteTime": {
     "end_time": "2024-05-14T11:35:52.185318300Z",
     "start_time": "2024-05-14T11:35:52.060339800Z"
    }
   },
   "id": "125dff9ba4497221"
  },
  {
   "cell_type": "code",
   "execution_count": 32,
   "outputs": [],
   "source": [
    "share_dict = dict()"
   ],
   "metadata": {
    "collapsed": false,
    "ExecuteTime": {
     "end_time": "2024-05-14T11:35:00.549659700Z",
     "start_time": "2024-05-14T11:35:00.440286500Z"
    }
   },
   "id": "3ed9e309561d556"
  },
  {
   "cell_type": "code",
   "execution_count": 33,
   "outputs": [],
   "source": [
    "batch = 0\n",
    "files = [x[2] for x in os.walk(paths2raw[batch])]\n",
    "files = files[0] # [os.path.join(paths2raw[batch], x) for x in files[0]]"
   ],
   "metadata": {
    "collapsed": false,
    "ExecuteTime": {
     "end_time": "2024-05-14T11:35:00.992330500Z",
     "start_time": "2024-05-14T11:35:00.898583800Z"
    }
   },
   "id": "7d84368e5feae0b9"
  },
  {
   "cell_type": "code",
   "execution_count": 34,
   "outputs": [
    {
     "name": "stderr",
     "output_type": "stream",
     "text": [
      "\n",
      "  0%|          | 0/873 [00:00<?, ?it/s]\u001B[A"
     ]
    },
    {
     "name": "stdout",
     "output_type": "stream",
     "text": [
      "created folder :  D:\\MAD_dbs\\raw_data_de\\format_parquet_r\\grp_0\n"
     ]
    },
    {
     "name": "stderr",
     "output_type": "stream",
     "text": [
      "\n",
      "  0%|          | 1/873 [00:02<36:31,  2.51s/it]\u001B[A\n",
      "  0%|          | 2/873 [00:05<36:38,  2.52s/it]\u001B[A\n",
      "  0%|          | 3/873 [00:07<38:17,  2.64s/it]\u001B[A\n",
      "  0%|          | 4/873 [00:10<38:54,  2.69s/it]\u001B[A\n",
      "  1%|          | 5/873 [00:11<30:37,  2.12s/it]\u001B[A\n",
      "  1%|          | 6/873 [00:13<28:50,  2.00s/it]\u001B[A\n",
      "  1%|          | 7/873 [00:16<32:13,  2.23s/it]\u001B[A\n",
      "  1%|          | 8/873 [00:19<34:58,  2.43s/it]\u001B[A\n",
      "  1%|          | 9/873 [00:22<38:25,  2.67s/it]\u001B[A\n",
      "  1%|          | 10/873 [00:25<39:31,  2.75s/it]\u001B[A\n",
      "  1%|▏         | 11/873 [00:27<39:08,  2.72s/it]\u001B[A\n",
      "  1%|▏         | 12/873 [00:30<38:44,  2.70s/it]\u001B[A\n",
      "  1%|▏         | 13/873 [00:33<39:57,  2.79s/it]\u001B[A\n",
      "  0%|          | 0/873 [03:44<?, ?it/s]3.28s/it]\u001B[A\n"
     ]
    },
    {
     "ename": "KeyboardInterrupt",
     "evalue": "",
     "output_type": "error",
     "traceback": [
      "\u001B[1;31m---------------------------------------------------------------------------\u001B[0m",
      "\u001B[1;31mKeyboardInterrupt\u001B[0m                         Traceback (most recent call last)",
      "Cell \u001B[1;32mIn[34], line 1\u001B[0m\n\u001B[1;32m----> 1\u001B[0m share_dict[batch] \u001B[38;5;241m=\u001B[39m [low_precision_remove(file, batch) \u001B[38;5;28;01mfor\u001B[39;00m file \u001B[38;5;129;01min\u001B[39;00m tqdm(files)]\n",
      "Cell \u001B[1;32mIn[34], line 1\u001B[0m, in \u001B[0;36m<listcomp>\u001B[1;34m(.0)\u001B[0m\n\u001B[1;32m----> 1\u001B[0m share_dict[batch] \u001B[38;5;241m=\u001B[39m [\u001B[43mlow_precision_remove\u001B[49m\u001B[43m(\u001B[49m\u001B[43mfile\u001B[49m\u001B[43m,\u001B[49m\u001B[43m \u001B[49m\u001B[43mbatch\u001B[49m\u001B[43m)\u001B[49m \u001B[38;5;28;01mfor\u001B[39;00m file \u001B[38;5;129;01min\u001B[39;00m tqdm(files)]\n",
      "Cell \u001B[1;32mIn[31], line 30\u001B[0m, in \u001B[0;36mlow_precision_remove\u001B[1;34m(file, batch)\u001B[0m\n\u001B[0;32m     28\u001B[0m     os\u001B[38;5;241m.\u001B[39mmakedirs(target_dir)\n\u001B[0;32m     29\u001B[0m     \u001B[38;5;28mprint\u001B[39m(\u001B[38;5;124m\"\u001B[39m\u001B[38;5;124mcreated folder : \u001B[39m\u001B[38;5;124m\"\u001B[39m, target_dir)\n\u001B[1;32m---> 30\u001B[0m \u001B[43mdf\u001B[49m\u001B[38;5;241;43m.\u001B[39;49m\u001B[43mto_parquet\u001B[49m\u001B[43m(\u001B[49m\u001B[43mtarget_dir\u001B[49m\u001B[43m \u001B[49m\u001B[38;5;241;43m+\u001B[39;49m\u001B[43m \u001B[49m\u001B[38;5;124;43mf\u001B[39;49m\u001B[38;5;124;43m'\u001B[39;49m\u001B[38;5;130;43;01m\\\\\u001B[39;49;00m\u001B[38;5;132;43;01m{\u001B[39;49;00m\u001B[43mfile\u001B[49m\u001B[38;5;132;43;01m}\u001B[39;49;00m\u001B[38;5;124;43m'\u001B[39;49m\u001B[43m)\u001B[49m\n\u001B[0;32m     31\u001B[0m \u001B[38;5;28;01mreturn\u001B[39;00m low_share\n",
      "File \u001B[1;32mC:\\ProgramData\\anaconda3\\envs\\geoenv\\lib\\site-packages\\pandas\\util\\_decorators.py:333\u001B[0m, in \u001B[0;36mdeprecate_nonkeyword_arguments.<locals>.decorate.<locals>.wrapper\u001B[1;34m(*args, **kwargs)\u001B[0m\n\u001B[0;32m    327\u001B[0m \u001B[38;5;28;01mif\u001B[39;00m \u001B[38;5;28mlen\u001B[39m(args) \u001B[38;5;241m>\u001B[39m num_allow_args:\n\u001B[0;32m    328\u001B[0m     warnings\u001B[38;5;241m.\u001B[39mwarn(\n\u001B[0;32m    329\u001B[0m         msg\u001B[38;5;241m.\u001B[39mformat(arguments\u001B[38;5;241m=\u001B[39m_format_argument_list(allow_args)),\n\u001B[0;32m    330\u001B[0m         \u001B[38;5;167;01mFutureWarning\u001B[39;00m,\n\u001B[0;32m    331\u001B[0m         stacklevel\u001B[38;5;241m=\u001B[39mfind_stack_level(),\n\u001B[0;32m    332\u001B[0m     )\n\u001B[1;32m--> 333\u001B[0m \u001B[38;5;28;01mreturn\u001B[39;00m func(\u001B[38;5;241m*\u001B[39margs, \u001B[38;5;241m*\u001B[39m\u001B[38;5;241m*\u001B[39mkwargs)\n",
      "File \u001B[1;32mC:\\ProgramData\\anaconda3\\envs\\geoenv\\lib\\site-packages\\pandas\\core\\frame.py:3101\u001B[0m, in \u001B[0;36mDataFrame.to_parquet\u001B[1;34m(self, path, engine, compression, index, partition_cols, storage_options, **kwargs)\u001B[0m\n\u001B[0;32m   3020\u001B[0m \u001B[38;5;250m\u001B[39m\u001B[38;5;124;03m\"\"\"\u001B[39;00m\n\u001B[0;32m   3021\u001B[0m \u001B[38;5;124;03mWrite a DataFrame to the binary parquet format.\u001B[39;00m\n\u001B[0;32m   3022\u001B[0m \n\u001B[1;32m   (...)\u001B[0m\n\u001B[0;32m   3097\u001B[0m \u001B[38;5;124;03m>>> content = f.read()\u001B[39;00m\n\u001B[0;32m   3098\u001B[0m \u001B[38;5;124;03m\"\"\"\u001B[39;00m\n\u001B[0;32m   3099\u001B[0m \u001B[38;5;28;01mfrom\u001B[39;00m \u001B[38;5;21;01mpandas\u001B[39;00m\u001B[38;5;21;01m.\u001B[39;00m\u001B[38;5;21;01mio\u001B[39;00m\u001B[38;5;21;01m.\u001B[39;00m\u001B[38;5;21;01mparquet\u001B[39;00m \u001B[38;5;28;01mimport\u001B[39;00m to_parquet\n\u001B[1;32m-> 3101\u001B[0m \u001B[38;5;28;01mreturn\u001B[39;00m to_parquet(\n\u001B[0;32m   3102\u001B[0m     \u001B[38;5;28mself\u001B[39m,\n\u001B[0;32m   3103\u001B[0m     path,\n\u001B[0;32m   3104\u001B[0m     engine,\n\u001B[0;32m   3105\u001B[0m     compression\u001B[38;5;241m=\u001B[39mcompression,\n\u001B[0;32m   3106\u001B[0m     index\u001B[38;5;241m=\u001B[39mindex,\n\u001B[0;32m   3107\u001B[0m     partition_cols\u001B[38;5;241m=\u001B[39mpartition_cols,\n\u001B[0;32m   3108\u001B[0m     storage_options\u001B[38;5;241m=\u001B[39mstorage_options,\n\u001B[0;32m   3109\u001B[0m     \u001B[38;5;241m*\u001B[39m\u001B[38;5;241m*\u001B[39mkwargs,\n\u001B[0;32m   3110\u001B[0m )\n",
      "File \u001B[1;32mC:\\ProgramData\\anaconda3\\envs\\geoenv\\lib\\site-packages\\pandas\\io\\parquet.py:480\u001B[0m, in \u001B[0;36mto_parquet\u001B[1;34m(df, path, engine, compression, index, storage_options, partition_cols, filesystem, **kwargs)\u001B[0m\n\u001B[0;32m    476\u001B[0m impl \u001B[38;5;241m=\u001B[39m get_engine(engine)\n\u001B[0;32m    478\u001B[0m path_or_buf: FilePath \u001B[38;5;241m|\u001B[39m WriteBuffer[\u001B[38;5;28mbytes\u001B[39m] \u001B[38;5;241m=\u001B[39m io\u001B[38;5;241m.\u001B[39mBytesIO() \u001B[38;5;28;01mif\u001B[39;00m path \u001B[38;5;129;01mis\u001B[39;00m \u001B[38;5;28;01mNone\u001B[39;00m \u001B[38;5;28;01melse\u001B[39;00m path\n\u001B[1;32m--> 480\u001B[0m impl\u001B[38;5;241m.\u001B[39mwrite(\n\u001B[0;32m    481\u001B[0m     df,\n\u001B[0;32m    482\u001B[0m     path_or_buf,\n\u001B[0;32m    483\u001B[0m     compression\u001B[38;5;241m=\u001B[39mcompression,\n\u001B[0;32m    484\u001B[0m     index\u001B[38;5;241m=\u001B[39mindex,\n\u001B[0;32m    485\u001B[0m     partition_cols\u001B[38;5;241m=\u001B[39mpartition_cols,\n\u001B[0;32m    486\u001B[0m     storage_options\u001B[38;5;241m=\u001B[39mstorage_options,\n\u001B[0;32m    487\u001B[0m     filesystem\u001B[38;5;241m=\u001B[39mfilesystem,\n\u001B[0;32m    488\u001B[0m     \u001B[38;5;241m*\u001B[39m\u001B[38;5;241m*\u001B[39mkwargs,\n\u001B[0;32m    489\u001B[0m )\n\u001B[0;32m    491\u001B[0m \u001B[38;5;28;01mif\u001B[39;00m path \u001B[38;5;129;01mis\u001B[39;00m \u001B[38;5;28;01mNone\u001B[39;00m:\n\u001B[0;32m    492\u001B[0m     \u001B[38;5;28;01massert\u001B[39;00m \u001B[38;5;28misinstance\u001B[39m(path_or_buf, io\u001B[38;5;241m.\u001B[39mBytesIO)\n",
      "File \u001B[1;32mC:\\ProgramData\\anaconda3\\envs\\geoenv\\lib\\site-packages\\pandas\\io\\parquet.py:228\u001B[0m, in \u001B[0;36mPyArrowImpl.write\u001B[1;34m(self, df, path, compression, index, storage_options, partition_cols, filesystem, **kwargs)\u001B[0m\n\u001B[0;32m    218\u001B[0m         \u001B[38;5;28mself\u001B[39m\u001B[38;5;241m.\u001B[39mapi\u001B[38;5;241m.\u001B[39mparquet\u001B[38;5;241m.\u001B[39mwrite_to_dataset(\n\u001B[0;32m    219\u001B[0m             table,\n\u001B[0;32m    220\u001B[0m             path_or_handle,\n\u001B[1;32m   (...)\u001B[0m\n\u001B[0;32m    224\u001B[0m             \u001B[38;5;241m*\u001B[39m\u001B[38;5;241m*\u001B[39mkwargs,\n\u001B[0;32m    225\u001B[0m         )\n\u001B[0;32m    226\u001B[0m     \u001B[38;5;28;01melse\u001B[39;00m:\n\u001B[0;32m    227\u001B[0m         \u001B[38;5;66;03m# write to single output file\u001B[39;00m\n\u001B[1;32m--> 228\u001B[0m         \u001B[38;5;28mself\u001B[39m\u001B[38;5;241m.\u001B[39mapi\u001B[38;5;241m.\u001B[39mparquet\u001B[38;5;241m.\u001B[39mwrite_table(\n\u001B[0;32m    229\u001B[0m             table,\n\u001B[0;32m    230\u001B[0m             path_or_handle,\n\u001B[0;32m    231\u001B[0m             compression\u001B[38;5;241m=\u001B[39mcompression,\n\u001B[0;32m    232\u001B[0m             filesystem\u001B[38;5;241m=\u001B[39mfilesystem,\n\u001B[0;32m    233\u001B[0m             \u001B[38;5;241m*\u001B[39m\u001B[38;5;241m*\u001B[39mkwargs,\n\u001B[0;32m    234\u001B[0m         )\n\u001B[0;32m    235\u001B[0m \u001B[38;5;28;01mfinally\u001B[39;00m:\n\u001B[0;32m    236\u001B[0m     \u001B[38;5;28;01mif\u001B[39;00m handles \u001B[38;5;129;01mis\u001B[39;00m \u001B[38;5;129;01mnot\u001B[39;00m \u001B[38;5;28;01mNone\u001B[39;00m:\n",
      "File \u001B[1;32mC:\\ProgramData\\anaconda3\\envs\\geoenv\\lib\\site-packages\\pyarrow\\parquet\\core.py:3106\u001B[0m, in \u001B[0;36mwrite_table\u001B[1;34m(table, where, row_group_size, version, use_dictionary, compression, write_statistics, use_deprecated_int96_timestamps, coerce_timestamps, allow_truncated_timestamps, data_page_size, flavor, filesystem, compression_level, use_byte_stream_split, column_encoding, data_page_version, use_compliant_nested_type, encryption_properties, write_batch_size, dictionary_pagesize_limit, store_schema, **kwargs)\u001B[0m\n\u001B[0;32m   3083\u001B[0m \u001B[38;5;28;01mtry\u001B[39;00m:\n\u001B[0;32m   3084\u001B[0m     \u001B[38;5;28;01mwith\u001B[39;00m ParquetWriter(\n\u001B[0;32m   3085\u001B[0m             where, table\u001B[38;5;241m.\u001B[39mschema,\n\u001B[0;32m   3086\u001B[0m             filesystem\u001B[38;5;241m=\u001B[39mfilesystem,\n\u001B[1;32m   (...)\u001B[0m\n\u001B[0;32m   3104\u001B[0m             store_schema\u001B[38;5;241m=\u001B[39mstore_schema,\n\u001B[0;32m   3105\u001B[0m             \u001B[38;5;241m*\u001B[39m\u001B[38;5;241m*\u001B[39mkwargs) \u001B[38;5;28;01mas\u001B[39;00m writer:\n\u001B[1;32m-> 3106\u001B[0m         \u001B[43mwriter\u001B[49m\u001B[38;5;241;43m.\u001B[39;49m\u001B[43mwrite_table\u001B[49m\u001B[43m(\u001B[49m\u001B[43mtable\u001B[49m\u001B[43m,\u001B[49m\u001B[43m \u001B[49m\u001B[43mrow_group_size\u001B[49m\u001B[38;5;241;43m=\u001B[39;49m\u001B[43mrow_group_size\u001B[49m\u001B[43m)\u001B[49m\n\u001B[0;32m   3107\u001B[0m \u001B[38;5;28;01mexcept\u001B[39;00m \u001B[38;5;167;01mException\u001B[39;00m:\n\u001B[0;32m   3108\u001B[0m     \u001B[38;5;28;01mif\u001B[39;00m _is_path_like(where):\n",
      "File \u001B[1;32mC:\\ProgramData\\anaconda3\\envs\\geoenv\\lib\\site-packages\\pyarrow\\parquet\\core.py:1092\u001B[0m, in \u001B[0;36mParquetWriter.write_table\u001B[1;34m(self, table, row_group_size)\u001B[0m\n\u001B[0;32m   1087\u001B[0m     msg \u001B[38;5;241m=\u001B[39m (\u001B[38;5;124m'\u001B[39m\u001B[38;5;124mTable schema does not match schema used to create file: \u001B[39m\u001B[38;5;124m'\u001B[39m\n\u001B[0;32m   1088\u001B[0m            \u001B[38;5;124m'\u001B[39m\u001B[38;5;130;01m\\n\u001B[39;00m\u001B[38;5;124mtable:\u001B[39m\u001B[38;5;130;01m\\n\u001B[39;00m\u001B[38;5;132;01m{!s}\u001B[39;00m\u001B[38;5;124m vs. \u001B[39m\u001B[38;5;130;01m\\n\u001B[39;00m\u001B[38;5;124mfile:\u001B[39m\u001B[38;5;130;01m\\n\u001B[39;00m\u001B[38;5;132;01m{!s}\u001B[39;00m\u001B[38;5;124m'\u001B[39m\n\u001B[0;32m   1089\u001B[0m            \u001B[38;5;241m.\u001B[39mformat(table\u001B[38;5;241m.\u001B[39mschema, \u001B[38;5;28mself\u001B[39m\u001B[38;5;241m.\u001B[39mschema))\n\u001B[0;32m   1090\u001B[0m     \u001B[38;5;28;01mraise\u001B[39;00m \u001B[38;5;167;01mValueError\u001B[39;00m(msg)\n\u001B[1;32m-> 1092\u001B[0m \u001B[38;5;28;43mself\u001B[39;49m\u001B[38;5;241;43m.\u001B[39;49m\u001B[43mwriter\u001B[49m\u001B[38;5;241;43m.\u001B[39;49m\u001B[43mwrite_table\u001B[49m\u001B[43m(\u001B[49m\u001B[43mtable\u001B[49m\u001B[43m,\u001B[49m\u001B[43m \u001B[49m\u001B[43mrow_group_size\u001B[49m\u001B[38;5;241;43m=\u001B[39;49m\u001B[43mrow_group_size\u001B[49m\u001B[43m)\u001B[49m\n",
      "\u001B[1;31mKeyboardInterrupt\u001B[0m: "
     ]
    }
   ],
   "source": [
    "share_dict[batch] = [low_precision_remove(file, batch) for file in tqdm(files)]"
   ],
   "metadata": {
    "collapsed": false,
    "ExecuteTime": {
     "end_time": "2024-05-14T11:35:44.429227300Z",
     "start_time": "2024-05-14T11:35:01.345072900Z"
    }
   },
   "id": "f246bf6604bc1e1a"
  },
  {
   "cell_type": "code",
   "execution_count": 38,
   "outputs": [
    {
     "data": {
      "text/plain": "       low_prec_share    grp\ncount      873.000000  873.0\nmean         0.844271    0.0\nstd          0.107872    0.0\nmin          0.557842    0.0\n25%          0.750339    0.0\n50%          0.892680    0.0\n75%          0.927831    0.0\nmax          1.000000    0.0",
      "text/html": "<div>\n<style scoped>\n    .dataframe tbody tr th:only-of-type {\n        vertical-align: middle;\n    }\n\n    .dataframe tbody tr th {\n        vertical-align: top;\n    }\n\n    .dataframe thead th {\n        text-align: right;\n    }\n</style>\n<table border=\"1\" class=\"dataframe\">\n  <thead>\n    <tr style=\"text-align: right;\">\n      <th></th>\n      <th>low_prec_share</th>\n      <th>grp</th>\n    </tr>\n  </thead>\n  <tbody>\n    <tr>\n      <th>count</th>\n      <td>873.000000</td>\n      <td>873.0</td>\n    </tr>\n    <tr>\n      <th>mean</th>\n      <td>0.844271</td>\n      <td>0.0</td>\n    </tr>\n    <tr>\n      <th>std</th>\n      <td>0.107872</td>\n      <td>0.0</td>\n    </tr>\n    <tr>\n      <th>min</th>\n      <td>0.557842</td>\n      <td>0.0</td>\n    </tr>\n    <tr>\n      <th>25%</th>\n      <td>0.750339</td>\n      <td>0.0</td>\n    </tr>\n    <tr>\n      <th>50%</th>\n      <td>0.892680</td>\n      <td>0.0</td>\n    </tr>\n    <tr>\n      <th>75%</th>\n      <td>0.927831</td>\n      <td>0.0</td>\n    </tr>\n    <tr>\n      <th>max</th>\n      <td>1.000000</td>\n      <td>0.0</td>\n    </tr>\n  </tbody>\n</table>\n</div>"
     },
     "execution_count": 38,
     "metadata": {},
     "output_type": "execute_result"
    }
   ],
   "source": [
    "df_stats = pd.read_parquet('D:\\\\MAD_dbs\\\\raw_data_de\\\\format_parquet_r_stats\\\\low_prec_share_0.parquet')\n",
    "df_stats.describe()"
   ],
   "metadata": {
    "collapsed": false,
    "ExecuteTime": {
     "end_time": "2024-05-14T12:13:20.442132900Z",
     "start_time": "2024-05-14T12:13:20.241083300Z"
    }
   },
   "id": "9ed3be6e44921704"
  },
  {
   "cell_type": "markdown",
   "source": [
    "## Merge two batches"
   ],
   "metadata": {
    "collapsed": false
   },
   "id": "49a8b0b71c7bdfb9"
  },
  {
   "cell_type": "code",
   "execution_count": 6,
   "outputs": [
    {
     "ename": "KeyboardInterrupt",
     "evalue": "",
     "output_type": "error",
     "traceback": [
      "\u001B[1;31m---------------------------------------------------------------------------\u001B[0m",
      "\u001B[1;31mKeyboardInterrupt\u001B[0m                         Traceback (most recent call last)",
      "Cell \u001B[1;32mIn[6], line 39\u001B[0m\n\u001B[0;32m     37\u001B[0m \u001B[38;5;66;03m# Create directories and copy files\u001B[39;00m\n\u001B[0;32m     38\u001B[0m create_directories(destination_base, num_groups)\n\u001B[1;32m---> 39\u001B[0m \u001B[43mcopy_files\u001B[49m\u001B[43m(\u001B[49m\u001B[43msource_base1\u001B[49m\u001B[43m,\u001B[49m\u001B[43m \u001B[49m\u001B[43msource_base2\u001B[49m\u001B[43m,\u001B[49m\u001B[43m \u001B[49m\u001B[43mdestination_base\u001B[49m\u001B[43m,\u001B[49m\u001B[43m \u001B[49m\u001B[43mnum_groups\u001B[49m\u001B[43m)\u001B[49m\n",
      "Cell \u001B[1;32mIn[6], line 22\u001B[0m, in \u001B[0;36mcopy_files\u001B[1;34m(source_base1, source_base2, destination_base, num_groups)\u001B[0m\n\u001B[0;32m     20\u001B[0m         source_file \u001B[38;5;241m=\u001B[39m os\u001B[38;5;241m.\u001B[39mpath\u001B[38;5;241m.\u001B[39mjoin(source_dir1, filename)\n\u001B[0;32m     21\u001B[0m         dest_file \u001B[38;5;241m=\u001B[39m os\u001B[38;5;241m.\u001B[39mpath\u001B[38;5;241m.\u001B[39mjoin(dest_dir, filename)\n\u001B[1;32m---> 22\u001B[0m         \u001B[43mshutil\u001B[49m\u001B[38;5;241;43m.\u001B[39;49m\u001B[43mcopy2\u001B[49m\u001B[43m(\u001B[49m\u001B[43msource_file\u001B[49m\u001B[43m,\u001B[49m\u001B[43m \u001B[49m\u001B[43mdest_file\u001B[49m\u001B[43m)\u001B[49m\n\u001B[0;32m     24\u001B[0m \u001B[38;5;66;03m# Copy files from the second source directory\u001B[39;00m\n\u001B[0;32m     25\u001B[0m \u001B[38;5;28;01mif\u001B[39;00m os\u001B[38;5;241m.\u001B[39mpath\u001B[38;5;241m.\u001B[39mexists(source_dir2):\n",
      "File \u001B[1;32mC:\\ProgramData\\anaconda3\\envs\\geoenv\\lib\\shutil.py:434\u001B[0m, in \u001B[0;36mcopy2\u001B[1;34m(src, dst, follow_symlinks)\u001B[0m\n\u001B[0;32m    432\u001B[0m \u001B[38;5;28;01mif\u001B[39;00m os\u001B[38;5;241m.\u001B[39mpath\u001B[38;5;241m.\u001B[39misdir(dst):\n\u001B[0;32m    433\u001B[0m     dst \u001B[38;5;241m=\u001B[39m os\u001B[38;5;241m.\u001B[39mpath\u001B[38;5;241m.\u001B[39mjoin(dst, os\u001B[38;5;241m.\u001B[39mpath\u001B[38;5;241m.\u001B[39mbasename(src))\n\u001B[1;32m--> 434\u001B[0m \u001B[43mcopyfile\u001B[49m\u001B[43m(\u001B[49m\u001B[43msrc\u001B[49m\u001B[43m,\u001B[49m\u001B[43m \u001B[49m\u001B[43mdst\u001B[49m\u001B[43m,\u001B[49m\u001B[43m \u001B[49m\u001B[43mfollow_symlinks\u001B[49m\u001B[38;5;241;43m=\u001B[39;49m\u001B[43mfollow_symlinks\u001B[49m\u001B[43m)\u001B[49m\n\u001B[0;32m    435\u001B[0m copystat(src, dst, follow_symlinks\u001B[38;5;241m=\u001B[39mfollow_symlinks)\n\u001B[0;32m    436\u001B[0m \u001B[38;5;28;01mreturn\u001B[39;00m dst\n",
      "File \u001B[1;32mC:\\ProgramData\\anaconda3\\envs\\geoenv\\lib\\shutil.py:258\u001B[0m, in \u001B[0;36mcopyfile\u001B[1;34m(src, dst, follow_symlinks)\u001B[0m\n\u001B[0;32m    255\u001B[0m \u001B[38;5;28;01mtry\u001B[39;00m:\n\u001B[0;32m    256\u001B[0m     \u001B[38;5;28;01mwith\u001B[39;00m \u001B[38;5;28mopen\u001B[39m(dst, \u001B[38;5;124m'\u001B[39m\u001B[38;5;124mwb\u001B[39m\u001B[38;5;124m'\u001B[39m) \u001B[38;5;28;01mas\u001B[39;00m fdst:\n\u001B[0;32m    257\u001B[0m         \u001B[38;5;66;03m# macOS\u001B[39;00m\n\u001B[1;32m--> 258\u001B[0m         \u001B[38;5;28;01mif\u001B[39;00m _HAS_FCOPYFILE:\n\u001B[0;32m    259\u001B[0m             \u001B[38;5;28;01mtry\u001B[39;00m:\n\u001B[0;32m    260\u001B[0m                 _fastcopy_fcopyfile(fsrc, fdst, posix\u001B[38;5;241m.\u001B[39m_COPYFILE_DATA)\n",
      "\u001B[1;31mKeyboardInterrupt\u001B[0m: "
     ]
    }
   ],
   "source": [
    "def create_directories(destination_base, num_groups):\n",
    "    for i in range(num_groups):\n",
    "        dest_dir = os.path.join(destination_base, f'grp_{i}')\n",
    "        os.makedirs(dest_dir, exist_ok=True)\n",
    "\n",
    "def copy_files(source_base1, source_base2, destination_base, num_groups):\n",
    "    for i in range(num_groups):\n",
    "        group_dir = f'grp_{i}'\n",
    "        \n",
    "        # Define source directories\n",
    "        source_dir1 = os.path.join(source_base1, group_dir)\n",
    "        source_dir2 = os.path.join(source_base2, group_dir)\n",
    "        \n",
    "        # Define destination directory\n",
    "        dest_dir = os.path.join(destination_base, group_dir)\n",
    "        \n",
    "        # Copy files from the first source directory\n",
    "        if os.path.exists(source_dir1):\n",
    "            for filename in os.listdir(source_dir1):\n",
    "                source_file = os.path.join(source_dir1, filename)\n",
    "                dest_file = os.path.join(dest_dir, filename)\n",
    "                shutil.copy2(source_file, dest_file)\n",
    "        \n",
    "        # Copy files from the second source directory\n",
    "        if os.path.exists(source_dir2):\n",
    "            for filename in os.listdir(source_dir2):\n",
    "                source_file = os.path.join(source_dir2, filename)\n",
    "                dest_file = os.path.join(dest_dir, filename)\n",
    "                shutil.copy2(source_file, dest_file)\n",
    "\n",
    "# Define paths\n",
    "destination_base = 'D:/MAD_dbs/raw_data_de/format_parquet2stops'\n",
    "source_base1 = 'D:/MAD_dbs/raw_data_de/format_parquet_r'\n",
    "source_base2 = 'D:/MAD_dbs/raw_data_de/format_parquet_br'\n",
    "num_groups = 300\n",
    "\n",
    "# Create directories and copy files\n",
    "create_directories(destination_base, num_groups)\n",
    "copy_files(source_base1, source_base2, destination_base, num_groups)"
   ],
   "metadata": {
    "collapsed": false,
    "ExecuteTime": {
     "end_time": "2024-10-22T12:01:47.570628500Z",
     "start_time": "2024-10-22T12:00:41.484129900Z"
    }
   },
   "id": "5b1e75d8af7221b2"
  },
  {
   "cell_type": "code",
   "execution_count": 7,
   "outputs": [],
   "source": [
    "# File location and structure\n",
    "data_folder = 'D:\\\\MAD_dbs\\\\raw_data_de\\\\format_parquet_r'\n",
    "paths = [x[0] for x in os.walk(data_folder)]\n",
    "paths = paths[1:]\n",
    "file_paths_dict = dict()\n",
    "for path in paths:\n",
    "    bt = int(path.split('_')[-1])\n",
    "    files = os.listdir(path)\n",
    "    file_paths = [os.path.join(path, f) for f in files]\n",
    "    file_paths_dict[bt] = file_paths   # 300 groups of users"
   ],
   "metadata": {
    "collapsed": false,
    "ExecuteTime": {
     "end_time": "2024-10-22T12:06:30.177505100Z",
     "start_time": "2024-10-22T12:06:28.975804200Z"
    }
   },
   "id": "804c1f4ceb5bc33e"
  },
  {
   "cell_type": "code",
   "execution_count": 27,
   "outputs": [],
   "source": [
    "file_paths_dict = dict()\n",
    "data_folder1 = 'D:\\\\MAD_dbs\\\\raw_data_de\\\\format_parquet_r'\n",
    "paths1 = [data_folder1 + f'\\\\grp_{x}' for x in range(0, 300)]\n",
    "data_folder2 = 'D:\\\\MAD_dbs\\\\raw_data_de\\\\format_parquet_br'\n",
    "paths2 = [data_folder2 + f'\\\\grp_{x}' for x in range(0, 300)]\n",
    "for path1, path2, grp in zip(paths1, paths2, range(0, 300)):\n",
    "    files1 = os.listdir(path1)\n",
    "    file_paths1 = [os.path.join(path1, f) for f in files1]\n",
    "    files2 = os.listdir(path2)\n",
    "    file_paths2 = [os.path.join(path2, f) for f in files2]\n",
    "    file_paths_dict[grp] = file_paths1 + file_paths2   # 300 groups of users"
   ],
   "metadata": {
    "collapsed": false,
    "ExecuteTime": {
     "end_time": "2024-10-22T12:47:07.970004100Z",
     "start_time": "2024-10-22T12:47:05.990213600Z"
    }
   },
   "id": "de068654801dbbc8"
  },
  {
   "cell_type": "code",
   "execution_count": 28,
   "outputs": [
    {
     "data": {
      "text/plain": "873"
     },
     "execution_count": 28,
     "metadata": {},
     "output_type": "execute_result"
    }
   ],
   "source": [
    "len(set(file_paths_dict[299]))"
   ],
   "metadata": {
    "collapsed": false,
    "ExecuteTime": {
     "end_time": "2024-10-22T12:47:09.134953600Z",
     "start_time": "2024-10-22T12:47:08.478698600Z"
    }
   },
   "id": "2d237a0104f37e92"
  },
  {
   "cell_type": "code",
   "execution_count": null,
   "outputs": [],
   "source": [],
   "metadata": {
    "collapsed": false
   },
   "id": "ae1e60e708fd9e23"
  }
 ],
 "metadata": {
  "kernelspec": {
   "display_name": "Python 3",
   "language": "python",
   "name": "python3"
  },
  "language_info": {
   "codemirror_mode": {
    "name": "ipython",
    "version": 2
   },
   "file_extension": ".py",
   "mimetype": "text/x-python",
   "name": "python",
   "nbconvert_exporter": "python",
   "pygments_lexer": "ipython2",
   "version": "2.7.6"
  }
 },
 "nbformat": 4,
 "nbformat_minor": 5
}
